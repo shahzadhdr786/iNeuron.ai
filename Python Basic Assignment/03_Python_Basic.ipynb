{
 "cells": [
  {
   "cell_type": "markdown",
   "id": "42280d78",
   "metadata": {},
   "source": [
    "## 1.Why are functions advantageous to have in your programs?"
   ]
  },
  {
   "cell_type": "markdown",
   "id": "ae140e65",
   "metadata": {},
   "source": [
    "1.Answer -\n",
    "\n",
    "    The advantages of using functions are:\n",
    "    Avoid repetition of codes.\n",
    "    Increases program readability and modularity\n",
    "    Divide a complex problem into simpler ones.\n",
    "    Reduces chances of error.\n",
    "    Modifying a program becomes easier by using function."
   ]
  },
  {
   "cell_type": "markdown",
   "id": "d3e25a55",
   "metadata": {},
   "source": [
    "## 2. When does the code in a function run: when it&#39;s specified or when it&#39;s called?"
   ]
  },
  {
   "cell_type": "markdown",
   "id": "1a18bcbf",
   "metadata": {},
   "source": [
    "2.Answer -\n",
    "            The code in a function executes when the function is called, not when the function is defined."
   ]
  },
  {
   "cell_type": "markdown",
   "id": "4e616619",
   "metadata": {},
   "source": [
    "## 3. What statement creates a function?"
   ]
  },
  {
   "cell_type": "markdown",
   "id": "60b12fb1",
   "metadata": {},
   "source": [
    "3.Answer -\n",
    "            def statement creates the function."
   ]
  },
  {
   "cell_type": "code",
   "execution_count": null,
   "id": "a36b7f3e",
   "metadata": {},
   "outputs": [],
   "source": [
    "def iNeuron():\n",
    "    pass"
   ]
  },
  {
   "cell_type": "markdown",
   "id": "dbed0283",
   "metadata": {},
   "source": [
    "## 4. What is the difference between a function and a function call?"
   ]
  },
  {
   "cell_type": "markdown",
   "id": "31bf0202",
   "metadata": {},
   "source": [
    "4.Answer -   \n",
    "\n",
    "               Function:is a block of code that does a particular operation and returns a result.\n",
    "\n",
    "               Function call: is used to execute set of codes present inside the function."
   ]
  },
  {
   "cell_type": "code",
   "execution_count": 1,
   "id": "91129bd6",
   "metadata": {},
   "outputs": [
    {
     "data": {
      "text/plain": [
       "'iNeuron is the world best plateform for Data Scientist '"
      ]
     },
     "execution_count": 1,
     "metadata": {},
     "output_type": "execute_result"
    }
   ],
   "source": [
    "def iNeuron():\n",
    "    return \"iNeuron is the world best platform for Data Scientist \"\n",
    "iNeuron()"
   ]
  },
  {
   "cell_type": "markdown",
   "id": "7530cb36",
   "metadata": {},
   "source": [
    "## 5. How many global scopes are there in a Python program? How many local scopes?"
   ]
  },
  {
   "cell_type": "markdown",
   "id": "feefff2d",
   "metadata": {},
   "source": [
    " 5.Answer = There are 1 global scopes and 1 local scope in the python program.\n",
    "\n"
   ]
  },
  {
   "cell_type": "markdown",
   "id": "279121b0",
   "metadata": {},
   "source": [
    "## 6. What happens to variables in a local scope when the function call returns?"
   ]
  },
  {
   "cell_type": "markdown",
   "id": "2be9a3ad",
   "metadata": {},
   "source": [
    "6.Answer - The local variables are destroyed when function call returns."
   ]
  },
  {
   "cell_type": "markdown",
   "id": "7e097430",
   "metadata": {},
   "source": [
    "## 7. What is the concept of a return value? Is it possible to have a return value in an expression?"
   ]
  },
  {
   "cell_type": "markdown",
   "id": "6890809f",
   "metadata": {},
   "source": [
    "7.Answer - Return value is value, varible or expression which a function can return.\n",
    "         Yes function return value can be an expression"
   ]
  },
  {
   "cell_type": "markdown",
   "id": "1656b50d",
   "metadata": {},
   "source": [
    "## 8. If a function does not have a return statement, what is the return value of a call to that function?"
   ]
  },
  {
   "cell_type": "markdown",
   "id": "c49aa803",
   "metadata": {},
   "source": [
    "8.Answer - If there is no return statement in function.It's return value in a NoneType."
   ]
  },
  {
   "cell_type": "code",
   "execution_count": 10,
   "id": "817c9ca5",
   "metadata": {},
   "outputs": [
    {
     "name": "stdout",
     "output_type": "stream",
     "text": [
      "iNeuron\n"
     ]
    },
    {
     "data": {
      "text/plain": [
       "NoneType"
      ]
     },
     "execution_count": 10,
     "metadata": {},
     "output_type": "execute_result"
    }
   ],
   "source": [
    "def AI():\n",
    "    print(\"iNeuron\")    \n",
    "type(AI())  "
   ]
  },
  {
   "cell_type": "markdown",
   "id": "0668e4b4",
   "metadata": {},
   "source": [
    "## 9. How do you make a function variable refer to the global variable?"
   ]
  },
  {
   "cell_type": "markdown",
   "id": "f2e71b6f",
   "metadata": {},
   "source": [
    "9.Answer - \n",
    "          By representing a variable by global keywords  and redefined the same variable inside the  function."
   ]
  },
  {
   "cell_type": "code",
   "execution_count": 15,
   "id": "57a4cdea",
   "metadata": {},
   "outputs": [
    {
     "name": "stdout",
     "output_type": "stream",
     "text": [
      "5\n",
      "45\n"
     ]
    }
   ],
   "source": [
    "var = 5\n",
    "def iNeuron():\n",
    "    global var\n",
    "    var = 45\n",
    "    \n",
    "print(var)\n",
    "iNeuron()\n",
    "print(var)    "
   ]
  },
  {
   "cell_type": "markdown",
   "id": "a8779217",
   "metadata": {},
   "source": [
    "## 10. What is the data type of None?"
   ]
  },
  {
   "cell_type": "markdown",
   "id": "e69387b5",
   "metadata": {},
   "source": [
    "10Answer - Data type of none is NoneType."
   ]
  },
  {
   "cell_type": "markdown",
   "id": "baa0f7b5",
   "metadata": {},
   "source": [
    "## 11. What does the sentence import areallyourpetsnamederic do?"
   ]
  },
  {
   "cell_type": "markdown",
   "id": "babe1e71",
   "metadata": {},
   "source": [
    "11.Answer =\n",
    "           Areallyourpetsnamederic ia not a python module. Importing this module will throughs ModuleNotFoundError exception\n"
   ]
  },
  {
   "cell_type": "code",
   "execution_count": 16,
   "id": "6f9c6bbb",
   "metadata": {},
   "outputs": [
    {
     "ename": "ModuleNotFoundError",
     "evalue": "No module named 'areallyourpetsnamederic'",
     "output_type": "error",
     "traceback": [
      "\u001b[1;31m---------------------------------------------------------------------------\u001b[0m",
      "\u001b[1;31mModuleNotFoundError\u001b[0m                       Traceback (most recent call last)",
      "\u001b[1;32m~\\AppData\\Local\\Temp/ipykernel_7496/51184242.py\u001b[0m in \u001b[0;36m<module>\u001b[1;34m\u001b[0m\n\u001b[1;32m----> 1\u001b[1;33m \u001b[1;32mimport\u001b[0m \u001b[0mareallyourpetsnamederic\u001b[0m\u001b[1;33m\u001b[0m\u001b[1;33m\u001b[0m\u001b[0m\n\u001b[0m",
      "\u001b[1;31mModuleNotFoundError\u001b[0m: No module named 'areallyourpetsnamederic'"
     ]
    }
   ],
   "source": [
    "import areallyourpetsnamederic"
   ]
  },
  {
   "cell_type": "markdown",
   "id": "c868fcb8",
   "metadata": {},
   "source": [
    "## 12. If you had a bacon() feature in a spam module, what would you call it after importing spam?"
   ]
  },
  {
   "cell_type": "markdown",
   "id": "48a2d10d",
   "metadata": {},
   "source": [
    "12.Answer = After import the spam.\n",
    "         spam.bacon()"
   ]
  },
  {
   "cell_type": "code",
   "execution_count": null,
   "id": "d73199f7",
   "metadata": {},
   "outputs": [],
   "source": [
    "#import spam\n",
    "#spam.bacon()"
   ]
  },
  {
   "cell_type": "markdown",
   "id": "a28c7b67",
   "metadata": {},
   "source": [
    "## 13. What can you do to save a programme from crashing if it encounters an error?"
   ]
  },
  {
   "cell_type": "markdown",
   "id": "8c1be24e",
   "metadata": {},
   "source": [
    "13.Answer = \n",
    "        To save the program from crashing over a runtime error we can use the try and except statement.\n",
    "        It will save from only the runtime error not the compile time error."
   ]
  },
  {
   "cell_type": "markdown",
   "id": "343090ae",
   "metadata": {},
   "source": [
    "## 14. What is the purpose of the try clause? What is the purpose of the except clause?"
   ]
  },
  {
   "cell_type": "markdown",
   "id": "e7ee9da5",
   "metadata": {},
   "source": [
    "14.Answer:\n",
    "    Try: Try block is used for any suspicious code which can throw a runtime error.\n",
    "    Except: Except block is used to catch error if any encountered inside try block."
   ]
  },
  {
   "cell_type": "code",
   "execution_count": null,
   "id": "4bdb798b",
   "metadata": {},
   "outputs": [],
   "source": []
  }
 ],
 "metadata": {
  "kernelspec": {
   "display_name": "Python 3 (ipykernel)",
   "language": "python",
   "name": "python3"
  },
  "language_info": {
   "codemirror_mode": {
    "name": "ipython",
    "version": 3
   },
   "file_extension": ".py",
   "mimetype": "text/x-python",
   "name": "python",
   "nbconvert_exporter": "python",
   "pygments_lexer": "ipython3",
   "version": "3.9.7"
  }
 },
 "nbformat": 4,
 "nbformat_minor": 5
}
