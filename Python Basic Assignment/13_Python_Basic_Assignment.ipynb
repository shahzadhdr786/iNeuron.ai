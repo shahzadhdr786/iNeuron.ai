{
 "cells": [
  {
   "cell_type": "markdown",
   "id": "2d81a2e4",
   "metadata": {},
   "source": [
    "# 1. What advantages do Excel spreadsheets have over CSV spreadsheets?"
   ]
  },
  {
   "cell_type": "markdown",
   "id": "54185bbc",
   "metadata": {},
   "source": [
    "Answer = Reading large dataset is much easier in excel compared to csv, Excel provides the option for linking the data from external sources but no such feature available in csv."
   ]
  },
  {
   "cell_type": "markdown",
   "id": "5df9b89e",
   "metadata": {},
   "source": [
    "# 2.What do you pass to csv.reader() and csv.writer() to create reader and writer objects?"
   ]
  },
  {
   "cell_type": "markdown",
   "id": "605f7fce",
   "metadata": {},
   "source": [
    "Answer = file object"
   ]
  },
  {
   "cell_type": "markdown",
   "id": "7c63fd9e",
   "metadata": {},
   "source": [
    "# 3.What modes do File objects for reader and writer objects need to be opened in?"
   ]
  },
  {
   "cell_type": "markdown",
   "id": "5ee640eb",
   "metadata": {},
   "source": [
    "Answer = 'r'(read mode) for reader objects and 'w'(write mode) for writer objects"
   ]
  },
  {
   "cell_type": "markdown",
   "id": "36915ed2",
   "metadata": {},
   "source": [
    "# 4.What method takes a list argument and writes it to a CSV file?"
   ]
  },
  {
   "cell_type": "markdown",
   "id": "22ffa4ab",
   "metadata": {},
   "source": [
    " Answer = writerow() method of csv.writer()"
   ]
  },
  {
   "cell_type": "markdown",
   "id": "b51075dd",
   "metadata": {},
   "source": [
    "# 5.What do the keyword arguments delimiter and line terminator do?"
   ]
  },
  {
   "cell_type": "markdown",
   "id": "01fd9df3",
   "metadata": {},
   "source": [
    "Answer = delimiter sets the character between cells on a row. line terminator sets the character that comes at the end of a row."
   ]
  },
  {
   "cell_type": "markdown",
   "id": "e0a05918",
   "metadata": {},
   "source": [
    "# 6.What function takes a string of JSON data and returns a Python data structure?"
   ]
  },
  {
   "cell_type": "markdown",
   "id": "8fb34605",
   "metadata": {},
   "source": [
    "Answer = json.loads()"
   ]
  },
  {
   "cell_type": "markdown",
   "id": "582ec42a",
   "metadata": {},
   "source": [
    "# 7.What function takes a Python data structure and returns a string of JSON data?"
   ]
  },
  {
   "cell_type": "markdown",
   "id": "c4a17de5",
   "metadata": {},
   "source": [
    "Answer = json.dumps()"
   ]
  }
 ],
 "metadata": {
  "kernelspec": {
   "display_name": "Python 3 (ipykernel)",
   "language": "python",
   "name": "python3"
  },
  "language_info": {
   "codemirror_mode": {
    "name": "ipython",
    "version": 3
   },
   "file_extension": ".py",
   "mimetype": "text/x-python",
   "name": "python",
   "nbconvert_exporter": "python",
   "pygments_lexer": "ipython3",
   "version": "3.9.7"
  }
 },
 "nbformat": 4,
 "nbformat_minor": 5
}
