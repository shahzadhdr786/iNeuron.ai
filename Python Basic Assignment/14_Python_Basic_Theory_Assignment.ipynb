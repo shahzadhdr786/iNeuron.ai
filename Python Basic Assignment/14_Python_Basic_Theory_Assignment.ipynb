{
 "cells": [
  {
   "cell_type": "markdown",
   "id": "46b63412",
   "metadata": {},
   "source": [
    "# 1. What does RGBA stand for?"
   ]
  },
  {
   "cell_type": "markdown",
   "id": "716aeb3b",
   "metadata": {},
   "source": [
    "Answer = RGBA: Red-Green-Blue-Alpha"
   ]
  },
  {
   "cell_type": "markdown",
   "id": "b77e2a5e",
   "metadata": {},
   "source": [
    "# 2.From the Pillow module, how do you get the RGBA value of any images?"
   ]
  },
  {
   "cell_type": "markdown",
   "id": "c7e38e87",
   "metadata": {},
   "source": [
    "Answer = from PIL import ImageColor\n",
    "\n",
    "ImageColor.getcolor(color_name, 'RGBA')"
   ]
  },
  {
   "cell_type": "markdown",
   "id": "08d5d04f",
   "metadata": {},
   "source": [
    "# 3.What is a box tuple, and how does it work?"
   ]
  },
  {
   "cell_type": "markdown",
   "id": "20b32fe3",
   "metadata": {},
   "source": [
    "Answer  =Many Pillow's function take box tuple argument. This means pillow is taking a tuple of four integer coordinates that expecting a rectangular region in image. The four integers are in order left, top, right, bottom."
   ]
  },
  {
   "cell_type": "markdown",
   "id": "050549d2",
   "metadata": {},
   "source": [
    "# 4.Use your image and load in notebook then, How can you find out the width and height of an Image object?"
   ]
  },
  {
   "cell_type": "code",
   "execution_count": 3,
   "id": "adfa8c6e",
   "metadata": {},
   "outputs": [
    {
     "name": "stdout",
     "output_type": "stream",
     "text": [
      "width= 720\n",
      "height= 1600\n"
     ]
    }
   ],
   "source": [
    "from PIL import Image\n",
    "im=Image.open(\"WhatsApp Image 2022-05-30 at 9.21.47 PM.jpeg\")\n",
    "width, height = im.size\n",
    "print(\"width=\", width)\n",
    "print(\"height=\", height)"
   ]
  },
  {
   "cell_type": "markdown",
   "id": "8babf6dd",
   "metadata": {},
   "source": [
    "# 5.What method would you call to get Image object for a 100×100 image, excluding the lower-left quarter of it?"
   ]
  },
  {
   "cell_type": "markdown",
   "id": "3a25d347",
   "metadata": {},
   "source": [
    "Answer = from PIL import Image\n",
    "\n",
    "Image.new('RGBA', (100,100))\n",
    "\n"
   ]
  },
  {
   "cell_type": "markdown",
   "id": "d2661d3a",
   "metadata": {},
   "source": [
    "# 6.After making changes to an Image object, how could you save it as an image file?"
   ]
  },
  {
   "cell_type": "markdown",
   "id": "1b37888f",
   "metadata": {},
   "source": [
    "Answer = save(filename)"
   ]
  },
  {
   "cell_type": "markdown",
   "id": "7aa64448",
   "metadata": {},
   "source": [
    "# 7.What module contains Pillow’s shape-drawing code?"
   ]
  },
  {
   "cell_type": "markdown",
   "id": "4042c8a4",
   "metadata": {},
   "source": [
    "Answer = ImageDraw"
   ]
  }
 ],
 "metadata": {
  "kernelspec": {
   "display_name": "Python 3 (ipykernel)",
   "language": "python",
   "name": "python3"
  },
  "language_info": {
   "codemirror_mode": {
    "name": "ipython",
    "version": 3
   },
   "file_extension": ".py",
   "mimetype": "text/x-python",
   "name": "python",
   "nbconvert_exporter": "python",
   "pygments_lexer": "ipython3",
   "version": "3.9.7"
  }
 },
 "nbformat": 4,
 "nbformat_minor": 5
}
