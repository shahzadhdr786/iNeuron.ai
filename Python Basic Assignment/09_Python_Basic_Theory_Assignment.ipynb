{
 "cells": [
  {
   "cell_type": "markdown",
   "id": "11d1fddd",
   "metadata": {},
   "source": [
    "# 1.To what does a relative path refer?"
   ]
  },
  {
   "cell_type": "markdown",
   "id": "bfd847d6",
   "metadata": {},
   "source": [
    "Answer = Relative path is the hirerchial path that locates a file or folder on a file system starting from a current                directory."
   ]
  },
  {
   "cell_type": "markdown",
   "id": "a0e81858",
   "metadata": {},
   "source": [
    "# 2.What does an absolute path start with your operating system?"
   ]
  },
  {
   "cell_type": "markdown",
   "id": "c4f689e4",
   "metadata": {},
   "source": [
    "Answer = An absolute path start from root element."
   ]
  },
  {
   "cell_type": "markdown",
   "id": "a623ca2e",
   "metadata": {},
   "source": [
    "# 3.What do the functions os.getcwd() and os.chdir() do?"
   ]
  },
  {
   "cell_type": "markdown",
   "id": "3ae9766b",
   "metadata": {},
   "source": [
    "Answer = os.getcwd() returns current working directory and os.chdir() changes the current working directory to specified            path."
   ]
  },
  {
   "cell_type": "markdown",
   "id": "a3be5b95",
   "metadata": {},
   "source": [
    "# 4.What are the . and .. folders?"
   ]
  },
  {
   "cell_type": "markdown",
   "id": "34cd3d62",
   "metadata": {},
   "source": [
    "Answer = ' . ' represents the current directory and ' .. ' represents the parent directory"
   ]
  },
  {
   "cell_type": "markdown",
   "id": "a58fdaed",
   "metadata": {},
   "source": [
    "# 5.In C:\\bacon\\eggs\\spam.txt, which part is the dir name, and which part is the base name?"
   ]
  },
  {
   "cell_type": "markdown",
   "id": "5c57acfd",
   "metadata": {},
   "source": [
    "Answer = C:\\bacon\\eggs is dir name and spam.txt is base name."
   ]
  },
  {
   "cell_type": "markdown",
   "id": "5860f411",
   "metadata": {},
   "source": [
    "# 6.What are the three “mode” arguments that can be passed to the open() function?"
   ]
  },
  {
   "cell_type": "markdown",
   "id": "6ccae82c",
   "metadata": {},
   "source": [
    "Answer = The three mode arguments that can be passed to the open() function are:\n",
    "\n",
    "'r' for read mode\n",
    "'w' for write mode\n",
    "'a' for append mode."
   ]
  },
  {
   "cell_type": "markdown",
   "id": "f7089ff9",
   "metadata": {},
   "source": [
    "# 7. What happens if an existing file is opened in write mode?"
   ]
  },
  {
   "cell_type": "code",
   "execution_count": null,
   "id": "ccfa5aa8",
   "metadata": {},
   "outputs": [],
   "source": [
    "Answer = If an existing file is opened in write mode, then all the existing content from the file is erased and the new content will be added.\n",
    "         This might result in loss of data if you wanted to have both existing and new data to existing in the file"
   ]
  },
  {
   "cell_type": "markdown",
   "id": "dbeb336f",
   "metadata": {},
   "source": [
    "# 8. How do you tell the difference between read() and readlines()?"
   ]
  },
  {
   "cell_type": "code",
   "execution_count": null,
   "id": "575eb05f",
   "metadata": {},
   "outputs": [],
   "source": [
    "Answer = read() - It reads everything in the file from start to finish and return a string,\n",
    "         readlines() - It also reads everything in a file and returns a list of strings of lines."
   ]
  },
  {
   "cell_type": "markdown",
   "id": "b4d7f29a",
   "metadata": {},
   "source": [
    "# 9.What data structure does a shelf value resemble?"
   ]
  },
  {
   "cell_type": "code",
   "execution_count": null,
   "id": "8cc8803a",
   "metadata": {},
   "outputs": [],
   "source": [
    "Answer = shelf value resembels a dictionary value."
   ]
  }
 ],
 "metadata": {
  "kernelspec": {
   "display_name": "Python 3 (ipykernel)",
   "language": "python",
   "name": "python3"
  },
  "language_info": {
   "codemirror_mode": {
    "name": "ipython",
    "version": 3
   },
   "file_extension": ".py",
   "mimetype": "text/x-python",
   "name": "python",
   "nbconvert_exporter": "python",
   "pygments_lexer": "ipython3",
   "version": "3.9.7"
  }
 },
 "nbformat": 4,
 "nbformat_minor": 5
}
