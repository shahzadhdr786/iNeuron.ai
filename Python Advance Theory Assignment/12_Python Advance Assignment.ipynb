{
 "cells": [
  {
   "cell_type": "markdown",
   "id": "a6666947",
   "metadata": {},
   "source": [
    "### Q1. Does assigning a value to a string's indexed character violate Python's string immutability?"
   ]
  },
  {
   "cell_type": "markdown",
   "id": "f784b096",
   "metadata": {},
   "source": [
    "NO,One final thing that makes strings different from some other Python collection types is that you are not allowed to modify the individual characters in the collection. It is tempting to use the [] operator on the left side of an assignment, with the intention of changing a character in a string. For example, in the following code, we would like to change the first letter of greeting."
   ]
  },
  {
   "cell_type": "code",
   "execution_count": 1,
   "id": "42f6d355",
   "metadata": {},
   "outputs": [
    {
     "ename": "TypeError",
     "evalue": "'str' object does not support item assignment",
     "output_type": "error",
     "traceback": [
      "\u001b[1;31m---------------------------------------------------------------------------\u001b[0m",
      "\u001b[1;31mTypeError\u001b[0m                                 Traceback (most recent call last)",
      "\u001b[1;32mC:\\Users\\AISHWA~1\\AppData\\Local\\Temp/ipykernel_20188/3046776812.py\u001b[0m in \u001b[0;36m<module>\u001b[1;34m\u001b[0m\n\u001b[0;32m      1\u001b[0m \u001b[0mgreeting\u001b[0m \u001b[1;33m=\u001b[0m \u001b[1;34m\"Hello, world!\"\u001b[0m\u001b[1;33m\u001b[0m\u001b[1;33m\u001b[0m\u001b[0m\n\u001b[1;32m----> 2\u001b[1;33m \u001b[0mgreeting\u001b[0m\u001b[1;33m[\u001b[0m\u001b[1;36m0\u001b[0m\u001b[1;33m]\u001b[0m \u001b[1;33m=\u001b[0m \u001b[1;34m'J'\u001b[0m            \u001b[1;31m# ERROR!\u001b[0m\u001b[1;33m\u001b[0m\u001b[1;33m\u001b[0m\u001b[0m\n\u001b[0m\u001b[0;32m      3\u001b[0m \u001b[0mprint\u001b[0m\u001b[1;33m(\u001b[0m\u001b[0mgreeting\u001b[0m\u001b[1;33m)\u001b[0m\u001b[1;33m\u001b[0m\u001b[1;33m\u001b[0m\u001b[0m\n",
      "\u001b[1;31mTypeError\u001b[0m: 'str' object does not support item assignment"
     ]
    }
   ],
   "source": [
    "greeting = \"Hello, world!\"\n",
    "greeting[0] = 'J'            # ERROR!\n",
    "print(greeting)\n"
   ]
  },
  {
   "cell_type": "markdown",
   "id": "b94bce72",
   "metadata": {},
   "source": [
    "### Q2. Does using the += operator to concatenate strings violate Python's string immutability? Why or why not?\n"
   ]
  },
  {
   "cell_type": "markdown",
   "id": "2cee3341",
   "metadata": {},
   "source": [
    "No. When we concatenate string, we assign new value to the same string variable. We are not altering string based on the indexes, so it won't violate Python's string immutability\n",
    "\n"
   ]
  },
  {
   "cell_type": "code",
   "execution_count": null,
   "id": "7713b4d5",
   "metadata": {},
   "outputs": [],
   "source": [
    "a = 'old'\n",
    "b = ' tree'\n",
    "\n",
    "c = a + b\n",
    "print(c)"
   ]
  },
  {
   "cell_type": "markdown",
   "id": "8232c155",
   "metadata": {},
   "source": [
    "Two strings are added using the + operator.\n",
    "\n",
    "In the second example, we use the compound addition operator"
   ]
  },
  {
   "cell_type": "code",
   "execution_count": null,
   "id": "4f5e7534",
   "metadata": {},
   "outputs": [],
   "source": [
    "msg = 'There are'\n",
    "\n",
    "msg += ' three falcons'\n",
    "msg += ' in the sky'\n",
    "\n",
    "print(msg)\n"
   ]
  },
  {
   "cell_type": "markdown",
   "id": "e712723c",
   "metadata": {},
   "source": [
    "The example builds a message with the += operator.\n",
    "\n"
   ]
  },
  {
   "cell_type": "markdown",
   "id": "b78be72b",
   "metadata": {},
   "source": [
    "### Q3. In Python, how many different ways are there to index a character?\n"
   ]
  },
  {
   "cell_type": "markdown",
   "id": "b2978563",
   "metadata": {},
   "source": [
    "There are two methods for this, find() and index() both will return the lowest index at which char is found."
   ]
  },
  {
   "cell_type": "markdown",
   "id": "d5cbc7df",
   "metadata": {},
   "source": [
    "### Q4. What is the relationship between indexing and slicing?\n"
   ]
  },
  {
   "cell_type": "markdown",
   "id": "bf73fc9c",
   "metadata": {},
   "source": [
    "Indexing is a way to access an element of a string by its position or index. Slicing is accessing only part od a string and not a full string. String slicing is done by using index."
   ]
  },
  {
   "cell_type": "code",
   "execution_count": null,
   "id": "9dcdc92a",
   "metadata": {},
   "outputs": [],
   "source": [
    "s = 'aishwarya'\n",
    "\n",
    "print(s[1])#indexing\n",
    "print(s[-1:2:-1])#slicing\n"
   ]
  },
  {
   "cell_type": "markdown",
   "id": "0ce89ade",
   "metadata": {},
   "source": [
    "### Q5. What is an indexed character's exact data type? What is the data form of a slicing-generated substring?\n"
   ]
  },
  {
   "cell_type": "markdown",
   "id": "2790a962",
   "metadata": {},
   "source": [
    "for both cases, it is 'str' type."
   ]
  },
  {
   "cell_type": "markdown",
   "id": "acff06d7",
   "metadata": {},
   "source": [
    "### Q6. What is the relationship between string and character \"types\" in Python?\n"
   ]
  },
  {
   "cell_type": "markdown",
   "id": "d1347019",
   "metadata": {},
   "source": [
    "In Python, There is no char data type, even a single character enclosed in doubble quotes is considered as str.\n",
    "\n"
   ]
  },
  {
   "cell_type": "markdown",
   "id": "42cbc358",
   "metadata": {},
   "source": [
    "### Q7. Identify at least two operators and one method that allow you to combine one or more smaller strings to create a larger string.\n"
   ]
  },
  {
   "cell_type": "markdown",
   "id": "43ed4072",
   "metadata": {},
   "source": [
    "\"+\" will concatenate two strings and \"*\" will repeat the string number of times mentioned. We can also use join() method for getting a larger string.\n",
    "\n"
   ]
  },
  {
   "cell_type": "code",
   "execution_count": null,
   "id": "607473c3",
   "metadata": {},
   "outputs": [],
   "source": [
    "print(\"Hello!\" + 'How are you?')\n",
    "\n",
    "print(\"Rain\" * 4)\n",
    "\n",
    "l = ['How', 'are', 'you?']\n",
    "\n",
    "s = ' '.join(l)\n",
    "\n",
    "print(s)\n"
   ]
  },
  {
   "cell_type": "markdown",
   "id": "9407dff4",
   "metadata": {},
   "source": [
    "### Q8. What is the benefit of first checking the target string with in or not in before using the index method to find a substring?\n"
   ]
  },
  {
   "cell_type": "markdown",
   "id": "32e3fdb8",
   "metadata": {},
   "source": [
    "Normally, when we use index() method it will return the starting index of a substring, if substring is present in a string. But the major concern is if a substring is not present in a string, index() will return a ValueError. To avoid this, we can first check the target string with in or not in before using the index method to find a substring.\n",
    "\n"
   ]
  },
  {
   "cell_type": "code",
   "execution_count": null,
   "id": "3c32a963",
   "metadata": {},
   "outputs": [],
   "source": [
    "s = 'abcdefghijk'\n",
    "\n",
    "s1 = 'xyz'\n",
    "\n",
    "if s1 in s:\n",
    "    print(s.index(s1))\n",
    "\n",
    "s.index(s1)"
   ]
  },
  {
   "cell_type": "markdown",
   "id": "051184fb",
   "metadata": {},
   "source": [
    "### Q9. Which operators and built-in string methods produce simple Boolean (true/false) results?\n"
   ]
  },
  {
   "cell_type": "markdown",
   "id": "261b7b09",
   "metadata": {},
   "source": [
    "Operators:\n",
    "\n",
    "    1. Comparison operators : (== ,!= ,< ,> ,<=, >=) \n",
    "    2. Logical Operators : (and, or, not)\n",
    "    3. Identity Operators : (is , is not)\n",
    "    4. Membership Operators : (in, not in)\n",
    "\n",
    "String methods:\n",
    "\n",
    "    1. endswith() : Returns true if the string ends with the specified value \n",
    "    2. isalnum()    Returns True if all characters in the string are alphanumeric        \n",
    "    3. isalpha()    Returns True if all characters in the string are in the alphabet        \n",
    "    4. isdecimal()  Returns True if all characters in the string are decimals       \n",
    "    5. isdigit()    Returns True if all characters in the string are digits        \n",
    "    6. isidentifier()   Returns True if the string is an identifier        \n",
    "    7. islower()    Returns True if all characters in the string are lower case        \n",
    "    8. isnumeric()  Returns True if all characters in the string are numeric        \n",
    "    9. isprintable()    Returns True if all characters in the string are printable        \n",
    "    10. isspace()   Returns True if all characters in the string are whitespaces        \n",
    "    11. istitle()   Returns True if the string follows the rules of a title        \n",
    "    12. isupper()   Returns True if all characters in the string are upper case"
   ]
  }
 ],
 "metadata": {
  "kernelspec": {
   "display_name": "Python 3 (ipykernel)",
   "language": "python",
   "name": "python3"
  },
  "language_info": {
   "codemirror_mode": {
    "name": "ipython",
    "version": 3
   },
   "file_extension": ".py",
   "mimetype": "text/x-python",
   "name": "python",
   "nbconvert_exporter": "python",
   "pygments_lexer": "ipython3",
   "version": "3.9.7"
  }
 },
 "nbformat": 4,
 "nbformat_minor": 5
}
