{
 "cells": [
  {
   "cell_type": "markdown",
   "id": "77bf7fac",
   "metadata": {},
   "source": [
    "## Q1. Explain the difference between greedy and non-greedy syntax with visual terms in as few words as possible. What is the bare minimum effort required to transform a greedy pattern into a non-greedy one? What characters or characters can you introduce or change?\n"
   ]
  },
  {
   "cell_type": "markdown",
   "id": "a775c77f",
   "metadata": {},
   "source": [
    "### Ans:"
   ]
  },
  {
   "cell_type": "markdown",
   "id": "24692dd7",
   "metadata": {},
   "source": [
    "Greedy version, Python matches the longest possible string"
   ]
  },
  {
   "cell_type": "code",
   "execution_count": 1,
   "id": "6818e7a9",
   "metadata": {},
   "outputs": [
    {
     "ename": "SyntaxError",
     "evalue": "unexpected EOF while parsing (Temp/ipykernel_7556/414389168.py, line 5)",
     "output_type": "error",
     "traceback": [
      "\u001b[1;36m  File \u001b[1;32m\"C:\\Users\\AISHWA~1\\AppData\\Local\\Temp/ipykernel_7556/414389168.py\"\u001b[1;36m, line \u001b[1;32m5\u001b[0m\n\u001b[1;33m    print(match.group()\u001b[0m\n\u001b[1;37m                       ^\u001b[0m\n\u001b[1;31mSyntaxError\u001b[0m\u001b[1;31m:\u001b[0m unexpected EOF while parsing\n"
     ]
    }
   ],
   "source": [
    "import re\n",
    "text = \"<Robot is the latest addition to the tech items> <Robot is very advanced> <Robot is a machine>\"\n",
    "greedyregobj=re.compile(r'<.*>')\n",
    "match=greedyregobj.search(text)\n",
    "print(match.group()"
   ]
  },
  {
   "cell_type": "markdown",
   "id": "aa17fb1f",
   "metadata": {},
   "source": [
    "The Non-greedy version of the regex, Python matches the shortest possible string"
   ]
  },
  {
   "cell_type": "code",
   "execution_count": null,
   "id": "a49a84ff",
   "metadata": {},
   "outputs": [],
   "source": [
    "nongreedyregobj=re.compile(r'<Ro.*?>')\n",
    "match1=nongreedyregobj.search(text)\n",
    "match1.group()"
   ]
  },
  {
   "cell_type": "markdown",
   "id": "8b9eb84d",
   "metadata": {},
   "source": [
    "## Q2. When exactly does greedy versus non-greedy make a difference? What if you're looking for a non-greedy match but the only one available is greedy?\n",
    "\n"
   ]
  },
  {
   "cell_type": "markdown",
   "id": "aab8d16b",
   "metadata": {},
   "source": [
    "### Ans:"
   ]
  },
  {
   "cell_type": "markdown",
   "id": "9b8dd1b8",
   "metadata": {},
   "source": [
    " In the non-greedy version of the regex, Python matches the shortest possible string. In the greedy version, \n",
    " Python matches the longest possible string. If only non greedy match is available, we can use other filtering \n",
    " or pattern matching methods of regex and further identify the required pattern."
   ]
  },
  {
   "cell_type": "markdown",
   "id": "1784715c",
   "metadata": {},
   "source": [
    "## Q3. In a simple match of a string, which looks only for one match and does not do any replacement, is the use of a nontagged group likely to make any practical difference?\n"
   ]
  },
  {
   "cell_type": "markdown",
   "id": "37983351",
   "metadata": {},
   "source": [
    "### Ans:"
   ]
  },
  {
   "cell_type": "code",
   "execution_count": null,
   "id": "74949b9d",
   "metadata": {},
   "outputs": [],
   "source": [
    "import re\n",
    "phoneNumRegex = re.compile(r'\\d\\d\\d')\n",
    "mo = phoneNumRegex.search('My number is 415-555-4242.')\n",
    "print('Phone number found: ' + mo.group()) # non tagged group\n",
    "print('Phone number found: ' + mo.group(0))\n"
   ]
  },
  {
   "cell_type": "markdown",
   "id": "1ea67087",
   "metadata": {},
   "source": [
    "## Q4. Describe a scenario in which using a nontagged category would have a significant impact on the program's outcomes.\n"
   ]
  },
  {
   "cell_type": "markdown",
   "id": "7bb82d11",
   "metadata": {},
   "source": [
    "### Ans:"
   ]
  },
  {
   "cell_type": "code",
   "execution_count": 2,
   "id": "52f82e0d",
   "metadata": {},
   "outputs": [
    {
     "data": {
      "text/plain": [
       "('135', '135')"
      ]
     },
     "execution_count": 2,
     "metadata": {},
     "output_type": "execute_result"
    }
   ],
   "source": [
    "# Ans : Non tagged category :\n",
    "import re\n",
    "text='135.135'\n",
    "pattern=r'(\\d+)(?:.)(\\d+)'\n",
    "regobj=re.compile(pattern)\n",
    "matobj=regobj.search(text)\n",
    "matobj.groups()\n",
    "#  Here the '.' decimal is not tagged or captured.\n",
    "#  It will useful in scenarios where the separator of value in a string is of no use and we need to capture only the\n",
    "#  values.\n"
   ]
  },
  {
   "cell_type": "markdown",
   "id": "b244c9c6",
   "metadata": {},
   "source": [
    "## Q5. Unlike a normal regex pattern, a look-ahead condition does not consume the characters it examines. Describe a situation in which this could make a difference in the results of your programme.\n"
   ]
  },
  {
   "cell_type": "markdown",
   "id": "9ec3b8d2",
   "metadata": {},
   "source": [
    "### Ans:"
   ]
  },
  {
   "cell_type": "markdown",
   "id": "52f1d497",
   "metadata": {},
   "source": [
    "While counting the number of multiple lines or mulytiple sentence in a string the positive look ahead makes a \n",
    " difference, without which we wont get the correct count of lines or sentences in a string."
   ]
  },
  {
   "cell_type": "markdown",
   "id": "db7347f5",
   "metadata": {},
   "source": [
    "## Q6. In standard expressions, what is the difference between positive look-ahead and negative look-ahead?\n"
   ]
  },
  {
   "cell_type": "markdown",
   "id": "77a18d03",
   "metadata": {},
   "source": [
    "### Ans:"
   ]
  },
  {
   "cell_type": "markdown",
   "id": "ba39118c",
   "metadata": {},
   "source": [
    "Positive look ahead is an assertion continuing the search and extending the string e.g.pattern= r'abc(?=[A-Z])''. \n",
    "Here after 'abc', ? is extending the search and says that in the remaining string, first identify the next \n",
    "charater should be capitalized character between A and Z, but doesnt consume it.\n",
    "Example of Positive lookahead"
   ]
  },
  {
   "cell_type": "code",
   "execution_count": 3,
   "id": "c0437969",
   "metadata": {},
   "outputs": [
    {
     "name": "stdout",
     "output_type": "stream",
     "text": [
      "Positive lookahead: ['abc']\n"
     ]
    }
   ],
   "source": [
    "import re\n",
    "pat=r'abc(?=[A-Z])'\n",
    "text=\"abcABCEF\"\n",
    "regobj=re.compile(pat)\n",
    "matobj=regobj.findall(text)\n",
    "print(\"Positive lookahead:\",matobj)"
   ]
  },
  {
   "cell_type": "code",
   "execution_count": 4,
   "id": "b02d69e9",
   "metadata": {},
   "outputs": [
    {
     "ename": "SyntaxError",
     "evalue": "invalid syntax (Temp/ipykernel_7556/1591775737.py, line 1)",
     "output_type": "error",
     "traceback": [
      "\u001b[1;36m  File \u001b[1;32m\"C:\\Users\\AISHWA~1\\AppData\\Local\\Temp/ipykernel_7556/1591775737.py\"\u001b[1;36m, line \u001b[1;32m1\u001b[0m\n\u001b[1;33m    Negative look head is also an assertion to exclude certain patterns e.g. pattern = r'abc(?!abc)', means\u001b[0m\n\u001b[1;37m             ^\u001b[0m\n\u001b[1;31mSyntaxError\u001b[0m\u001b[1;31m:\u001b[0m invalid syntax\n"
     ]
    }
   ],
   "source": [
    " Negative look head is also an assertion to exclude certain patterns e.g. pattern = r'abc(?!abc)', means \n",
    "identify a substring containing \n",
    "'abc' which is not followed by another 'abc'\n",
    "Example of Negative lookahead"
   ]
  },
  {
   "cell_type": "code",
   "execution_count": null,
   "id": "0d2cc3f3",
   "metadata": {},
   "outputs": [],
   "source": [
    "import re\n",
    "pat1=r'abc(?!abc)'\n",
    "text1=\"aeiouabcabc\"\n",
    "regobj1=re.compile(pat1)\n",
    "matobj1=regobj1.findall(text)\n",
    "print(\"Negative look ahead:\",matobj1) \n"
   ]
  },
  {
   "cell_type": "markdown",
   "id": "946d0c62",
   "metadata": {},
   "source": [
    "## Q7. What is the benefit of referring to groups by name rather than by number in a standard expression?"
   ]
  },
  {
   "cell_type": "markdown",
   "id": "448f5a51",
   "metadata": {},
   "source": [
    "### Ans:"
   ]
  },
  {
   "cell_type": "markdown",
   "id": "5331d6b3",
   "metadata": {},
   "source": [
    "The benifit of referring to the groups by name is that\n",
    "1)The code is clear\n",
    "2)It is easier to maimtain the code.\n"
   ]
  },
  {
   "cell_type": "markdown",
   "id": "3680b1b1",
   "metadata": {},
   "source": [
    "## Q8. Can you identify repeated items within a target string using named groups, as in \"The cow jumped over the moon\"?\n"
   ]
  },
  {
   "cell_type": "markdown",
   "id": "07fa4c21",
   "metadata": {},
   "source": [
    "### Ans:"
   ]
  },
  {
   "cell_type": "code",
   "execution_count": null,
   "id": "b9fbeb2f",
   "metadata": {},
   "outputs": [],
   "source": [
    "import re\n",
    "text = \"The cow jumped over the moon\"\n",
    "regobj=re.compile(r'(?P<w1>The)',re.I)\n",
    "regobj.findall(text)\n"
   ]
  },
  {
   "cell_type": "markdown",
   "id": "f744cf0a",
   "metadata": {},
   "source": [
    "## Q9. When parsing a string, what is at least one thing that the Scanner interface does for you that the re.findall feature does not?\n"
   ]
  },
  {
   "cell_type": "markdown",
   "id": "5cdc5e49",
   "metadata": {},
   "source": [
    "### Ans:"
   ]
  },
  {
   "cell_type": "markdown",
   "id": "76ea08be",
   "metadata": {},
   "source": [
    "re.search() method either returns None (if the pattern doesn’t match), or a re.MatchObject that contains\n",
    "information about the matching part of the string. This method stops after the first match, so this is best suited for testing a regular expression more than extracting data,whereas Return all non-overlapping matches of pattern in string, as a list of strings. The string is scanned  left to right, and matches are returned in the order found.\n"
   ]
  },
  {
   "cell_type": "markdown",
   "id": "2b0505c8",
   "metadata": {},
   "source": [
    "## Q10. Does a scanner object have to be named scanner?\n"
   ]
  },
  {
   "cell_type": "markdown",
   "id": "43a95f16",
   "metadata": {},
   "source": [
    "### Ans:"
   ]
  },
  {
   "cell_type": "markdown",
   "id": "927e2242",
   "metadata": {},
   "source": [
    "The scanner object need not be named scanner. It may have any name."
   ]
  }
 ],
 "metadata": {
  "kernelspec": {
   "display_name": "Python 3 (ipykernel)",
   "language": "python",
   "name": "python3"
  },
  "language_info": {
   "codemirror_mode": {
    "name": "ipython",
    "version": 3
   },
   "file_extension": ".py",
   "mimetype": "text/x-python",
   "name": "python",
   "nbconvert_exporter": "python",
   "pygments_lexer": "ipython3",
   "version": "3.9.7"
  }
 },
 "nbformat": 4,
 "nbformat_minor": 5
}
