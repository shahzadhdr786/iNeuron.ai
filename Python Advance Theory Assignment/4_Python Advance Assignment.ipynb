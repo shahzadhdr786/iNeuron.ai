{
 "cells": [
  {
   "cell_type": "markdown",
   "id": "e319c800",
   "metadata": {},
   "source": [
    "### Q1. Which two operator overloading methods can you use in your classes to support iteration?"
   ]
  },
  {
   "cell_type": "markdown",
   "id": "04248d07",
   "metadata": {},
   "source": [
    "add() and mul() methods can be used for both integers and string data objects. String is iterable object. When two strings are passed to + operator, it will return concatenated string. When * (number) is preceeded by string, then that string is repeated those many number of time."
   ]
  },
  {
   "cell_type": "code",
   "execution_count": 1,
   "id": "91ca0821",
   "metadata": {},
   "outputs": [
    {
     "name": "stdout",
     "output_type": "stream",
     "text": [
      "aishupathipaka\n",
      "aishuaishuaishuaishuaishu\n"
     ]
    }
   ],
   "source": [
    "print(\"aishu\" + 'pathipaka')\n",
    "\n",
    "print(\"aishu\" * 5)\n"
   ]
  },
  {
   "cell_type": "markdown",
   "id": "31c616b3",
   "metadata": {},
   "source": [
    "### Q2. In what contexts do the two operator overloading methods manage printing?"
   ]
  },
  {
   "cell_type": "markdown",
   "id": "c495889b",
   "metadata": {},
   "source": [
    "It depends on the input parameter result is printed. Example, If both inputs are string function will print string output."
   ]
  },
  {
   "cell_type": "markdown",
   "id": "82c8bdc1",
   "metadata": {},
   "source": [
    "### Q3. In a class, how do you intercept slice operations?"
   ]
  },
  {
   "cell_type": "markdown",
   "id": "89090042",
   "metadata": {},
   "source": [
    "As follows:"
   ]
  },
  {
   "cell_type": "code",
   "execution_count": null,
   "id": "b3441a62",
   "metadata": {},
   "outputs": [],
   "source": [
    "import profile\n",
    "import sys\n",
    "\n",
    "\n",
    "\n",
    "class InterceptedList2(list):\n",
    "\n",
    "    def __setitem__(self, key, value):\n",
    "        print ('saving')\n",
    "        list.__setitem__(self, key, value)\n",
    "\n",
    "    def __delitem__(self, key):\n",
    "        print ('saving')\n",
    "        list.__delitem__(self, key)\n",
    "\n",
    "\n",
    "\n",
    "l2 = InterceptedList2()\n",
    "l2.extend([1,2,3,4])\n",
    "profile.run(\"l2[3:] = [5]\")\n",
    "profile.run(\"l2[2:6] = [12,4]\")\n",
    "profile.run(\"l2[-1:] = [42]\")\n",
    "profile.run(\"l2[::2] = [6,6]\")"
   ]
  },
  {
   "cell_type": "markdown",
   "id": "0238c04b",
   "metadata": {},
   "source": [
    "### Q4. In a class, how do you capture in-place addition?"
   ]
  },
  {
   "cell_type": "markdown",
   "id": "0ad0bad9",
   "metadata": {},
   "source": [
    "Python in its definition provides methods to perform inplace operations, i.e doing assignment and computation in a single statement using “operator” module. For example,\n",
    "\n",
    "x += y is equivalent to x = operator.iadd(x, y)\n",
    "\n",
    "iadd() function is used to assign and add the current value. This operation does “a+=b” operation. Assigning is not performed in case of immutable containers, such as strings, numbers and tuples.\n",
    "\n"
   ]
  },
  {
   "cell_type": "code",
   "execution_count": null,
   "id": "b9b56f5b",
   "metadata": {},
   "outputs": [],
   "source": [
    "import operator\n",
    "\n",
    "x = 2\n",
    "y = 3\n",
    "\n",
    "x = operator.iadd(x,y)\n",
    "\n",
    "print(x) \n"
   ]
  },
  {
   "cell_type": "markdown",
   "id": "4e9846fc",
   "metadata": {},
   "source": [
    "### Q5. When is it appropriate to use operator overloading?"
   ]
  },
  {
   "cell_type": "markdown",
   "id": "11f5afb0",
   "metadata": {},
   "source": [
    "When we have two objects which are a physical representation of a class (user-defined data type) and we have to add two objects with binary ‘+’ operator it throws an error, because compiler don’t know how to add two objects. So we define a method for an operator and that process is called operator overloading."
   ]
  },
  {
   "cell_type": "code",
   "execution_count": null,
   "id": "a62f312d",
   "metadata": {},
   "outputs": [],
   "source": []
  }
 ],
 "metadata": {
  "kernelspec": {
   "display_name": "Python 3 (ipykernel)",
   "language": "python",
   "name": "python3"
  },
  "language_info": {
   "codemirror_mode": {
    "name": "ipython",
    "version": 3
   },
   "file_extension": ".py",
   "mimetype": "text/x-python",
   "name": "python",
   "nbconvert_exporter": "python",
   "pygments_lexer": "ipython3",
   "version": "3.9.7"
  }
 },
 "nbformat": 4,
 "nbformat_minor": 5
}
