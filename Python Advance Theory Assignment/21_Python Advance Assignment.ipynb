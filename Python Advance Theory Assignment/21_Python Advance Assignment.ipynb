{
 "cells": [
  {
   "cell_type": "markdown",
   "id": "441ecb90",
   "metadata": {},
   "source": [
    "## Q1. What is a probability distribution, exactly? If the values are meant to be random, how can you predict them at all?"
   ]
  },
  {
   "cell_type": "code",
   "execution_count": 1,
   "id": "411804ad",
   "metadata": {},
   "outputs": [],
   "source": [
    "# Ans : A probability distribution describes how a random variable is distributed,it tells us which values a random \n",
    "#       variable is most likely to take on and which values are less likely.Based on the previous data and the \n",
    "#       occurences of the random event, we can predict the outcome in terms of probabilities."
   ]
  },
  {
   "cell_type": "code",
   "execution_count": null,
   "id": "2c57ce5b",
   "metadata": {},
   "outputs": [],
   "source": []
  },
  {
   "cell_type": "markdown",
   "id": "0bf6b81c",
   "metadata": {},
   "source": [
    "## Q2. Is there a distinction between true random numbers and pseudo-random numbers, if there is one? Why are the latter considered “good enough”?"
   ]
  },
  {
   "cell_type": "code",
   "execution_count": 2,
   "id": "c8e84fc3",
   "metadata": {},
   "outputs": [],
   "source": [
    "# Ans : The difference between true random number(TRN) and pseudo-random number(PRN), is that TRN's are unpredictable \n",
    "#       physical values means (like atmospheric noise), and PRN are generated using mathematical algorithms (completely\n",
    "#       computer-generated).The PRN's are good enough as they follow a uniform distribution and the seed for generating\n",
    "#       PRN is unpredictable and unknown."
   ]
  },
  {
   "cell_type": "code",
   "execution_count": null,
   "id": "7f3120ee",
   "metadata": {},
   "outputs": [],
   "source": []
  },
  {
   "cell_type": "markdown",
   "id": "70d4986b",
   "metadata": {},
   "source": [
    "## Q3. What are the two main factors that influence the behaviour of a \"normal\" probability distribution?"
   ]
  },
  {
   "cell_type": "code",
   "execution_count": 3,
   "id": "4130c877",
   "metadata": {},
   "outputs": [],
   "source": [
    "# Ans : A normal distribution is determined by two parameters the mean and the variance. A normal distribution with a \n",
    "#       mean of 0 and a standard deviation of 1 is called a standard normal distribution."
   ]
  },
  {
   "cell_type": "code",
   "execution_count": null,
   "id": "0dc18c57",
   "metadata": {},
   "outputs": [],
   "source": []
  },
  {
   "cell_type": "markdown",
   "id": "358515cb",
   "metadata": {},
   "source": [
    "## Q4. Provide a real-life example of a normal distribution."
   ]
  },
  {
   "cell_type": "code",
   "execution_count": 4,
   "id": "d3cf6409",
   "metadata": {},
   "outputs": [],
   "source": [
    "# Ans : A fair rolling of dice is also a good example of normal distribution."
   ]
  },
  {
   "cell_type": "code",
   "execution_count": null,
   "id": "e3a0c3be",
   "metadata": {},
   "outputs": [],
   "source": []
  },
  {
   "cell_type": "markdown",
   "id": "ca62eda5",
   "metadata": {},
   "source": [
    "## Q5. In the short term, how can you expect a probability distribution to behave? What do you think will happen as the number of trials grows?"
   ]
  },
  {
   "cell_type": "code",
   "execution_count": 5,
   "id": "f87211a5",
   "metadata": {},
   "outputs": [],
   "source": [
    "# Ans : When trails are less, the variance will large. As the number of trials increase , the variance will reduce."
   ]
  },
  {
   "cell_type": "code",
   "execution_count": null,
   "id": "3a24a3e1",
   "metadata": {},
   "outputs": [],
   "source": []
  },
  {
   "cell_type": "markdown",
   "id": "9420bf9e",
   "metadata": {},
   "source": [
    "## Q6. What kind of object can be shuffled by using random.shuffle?"
   ]
  },
  {
   "cell_type": "code",
   "execution_count": 6,
   "id": "3a882ac5",
   "metadata": {},
   "outputs": [],
   "source": [
    "# Ans : random.shuffle can used to shuffle list object"
   ]
  },
  {
   "cell_type": "code",
   "execution_count": null,
   "id": "3439662e",
   "metadata": {},
   "outputs": [],
   "source": []
  },
  {
   "cell_type": "markdown",
   "id": "09791ee3",
   "metadata": {},
   "source": [
    "## Q7. Describe the math package's general categories of functions."
   ]
  },
  {
   "cell_type": "code",
   "execution_count": 7,
   "id": "6db379b9",
   "metadata": {},
   "outputs": [],
   "source": [
    "# Ans : The general categories of math package are\n",
    "#       1) Trigonometric functions\n",
    "#       2)Quadratic functions\n",
    "#       3)Exponential functions\n",
    "#       4)Hyperbolic functions\n",
    "#       5)Periodic functions\n",
    "#       6)Arithmetic functions\n",
    "#       7)Logarithimic functions\n",
    "#       8)Conversions to Integer"
   ]
  },
  {
   "cell_type": "code",
   "execution_count": null,
   "id": "094cb628",
   "metadata": {},
   "outputs": [],
   "source": []
  },
  {
   "cell_type": "markdown",
   "id": "0e140546",
   "metadata": {},
   "source": [
    "## Q8. What is the relationship between exponentiation and logarithms?"
   ]
  },
  {
   "cell_type": "code",
   "execution_count": 8,
   "id": "9eba1a09",
   "metadata": {},
   "outputs": [],
   "source": [
    "# Ans : The exponential function is given by ƒ(x) = ex, whereas the logarithmic function is given by g(x) = ln x, and \n",
    "#       former is the inverse of the latter."
   ]
  },
  {
   "cell_type": "code",
   "execution_count": null,
   "id": "f3207f35",
   "metadata": {},
   "outputs": [],
   "source": []
  },
  {
   "cell_type": "markdown",
   "id": "90ecb84e",
   "metadata": {},
   "source": [
    "## Q9. What are the three logarithmic functions that Python supports?"
   ]
  },
  {
   "cell_type": "code",
   "execution_count": 9,
   "id": "96182a58",
   "metadata": {},
   "outputs": [],
   "source": [
    "# Ans : 1)log2(x) - logarithmic value of x to base 2\n",
    "#       2)log10(x) - logarithmic value of x to base 10\n",
    "#       3)log(x,base) - logarithmic value of x to base. If only first parameter is given , it computes its\n",
    "#       value tp base e,natural logarithm\n",
    "#       4)log1p(x) - natural logarithm (base e) value of 1+x"
   ]
  }
 ],
 "metadata": {
  "kernelspec": {
   "display_name": "Python 3 (ipykernel)",
   "language": "python",
   "name": "python3"
  },
  "language_info": {
   "codemirror_mode": {
    "name": "ipython",
    "version": 3
   },
   "file_extension": ".py",
   "mimetype": "text/x-python",
   "name": "python",
   "nbconvert_exporter": "python",
   "pygments_lexer": "ipython3",
   "version": "3.9.7"
  }
 },
 "nbformat": 4,
 "nbformat_minor": 5
}
