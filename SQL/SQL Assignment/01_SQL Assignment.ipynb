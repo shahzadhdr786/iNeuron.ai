{
 "cells": [
  {
   "cell_type": "markdown",
   "id": "4e90b6ed",
   "metadata": {},
   "source": [
    "# 1. Write an SQL query to fetch “FIRST_NAME” from Worker table using the alias name as <WORKER_NAME>.\n",
    "\n",
    "\n"
   ]
  },
  {
   "cell_type": "code",
   "execution_count": null,
   "id": "8ae09a37",
   "metadata": {},
   "outputs": [],
   "source": [
    "Answer:\n",
    "\n",
    "SELECT FIRST_NAME AS WORKER_NAME FROM worker;\n",
    "\n"
   ]
  },
  {
   "cell_type": "markdown",
   "id": "9ed8432d",
   "metadata": {},
   "source": [
    "# 2. Write an SQL query to fetch unique values of DEPARTMENT from Worker table.\n"
   ]
  },
  {
   "cell_type": "code",
   "execution_count": null,
   "id": "0bbfd4fc",
   "metadata": {},
   "outputs": [],
   "source": [
    "Answer:\n",
    "\n",
    "SELECT distinct(Department) from worker;"
   ]
  },
  {
   "cell_type": "code",
   "execution_count": null,
   "id": "2be8420c",
   "metadata": {},
   "outputs": [],
   "source": []
  },
  {
   "cell_type": "markdown",
   "id": "95fd297c",
   "metadata": {},
   "source": [
    "# 3. Write an SQL query to show the last 5 record from a table.\n"
   ]
  },
  {
   "cell_type": "code",
   "execution_count": null,
   "id": "c206d7e1",
   "metadata": {},
   "outputs": [],
   "source": [
    "Answer:\n",
    "    (SELECT * FROM TableName ORDER BY column_name DESC LIMIT 5) ORDER BY column_name ASC;"
   ]
  },
  {
   "cell_type": "code",
   "execution_count": null,
   "id": "b3ae20c2",
   "metadata": {},
   "outputs": [],
   "source": []
  },
  {
   "cell_type": "code",
   "execution_count": null,
   "id": "1c3717db",
   "metadata": {},
   "outputs": [],
   "source": []
  },
  {
   "cell_type": "code",
   "execution_count": null,
   "id": "e9072d2d",
   "metadata": {},
   "outputs": [],
   "source": []
  }
 ],
 "metadata": {
  "kernelspec": {
   "display_name": "Python 3 (ipykernel)",
   "language": "python",
   "name": "python3"
  },
  "language_info": {
   "codemirror_mode": {
    "name": "ipython",
    "version": 3
   },
   "file_extension": ".py",
   "mimetype": "text/x-python",
   "name": "python",
   "nbconvert_exporter": "python",
   "pygments_lexer": "ipython3",
   "version": "3.9.7"
  }
 },
 "nbformat": 4,
 "nbformat_minor": 5
}
