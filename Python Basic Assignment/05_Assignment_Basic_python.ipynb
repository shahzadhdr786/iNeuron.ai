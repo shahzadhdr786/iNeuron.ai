{
 "cells": [
  {
   "cell_type": "code",
   "execution_count": null,
   "id": "82858486",
   "metadata": {},
   "outputs": [],
   "source": [
    "1. What does an empty dictionary's code look like?\n",
    "\n",
    "      Answer- \n",
    "         An empty dictonary code look like a set."
   ]
  },
  {
   "cell_type": "code",
   "execution_count": 2,
   "id": "3c1f4d0a",
   "metadata": {},
   "outputs": [
    {
     "data": {
      "text/plain": [
       "set"
      ]
     },
     "execution_count": 2,
     "metadata": {},
     "output_type": "execute_result"
    }
   ],
   "source": [
    "b = {1,2,3}\n",
    "type(b)"
   ]
  },
  {
   "cell_type": "code",
   "execution_count": 1,
   "id": "40b89d44",
   "metadata": {},
   "outputs": [
    {
     "data": {
      "text/plain": [
       "dict"
      ]
     },
     "execution_count": 1,
     "metadata": {},
     "output_type": "execute_result"
    }
   ],
   "source": [
    "c = {}\n",
    "type(c)"
   ]
  },
  {
   "cell_type": "code",
   "execution_count": null,
   "id": "fc0b49fa",
   "metadata": {},
   "outputs": [],
   "source": [
    "2. What is the value of a dictionary value with the key 'foo' and the value 42?\n",
    "\n",
    "    Answer - \n",
    "         The value of the dictonary is 42."
   ]
  },
  {
   "cell_type": "code",
   "execution_count": 14,
   "id": "a411fca0",
   "metadata": {},
   "outputs": [],
   "source": [
    "d = {\"foo\" : 42}"
   ]
  },
  {
   "cell_type": "code",
   "execution_count": 13,
   "id": "5c2b996a",
   "metadata": {},
   "outputs": [
    {
     "data": {
      "text/plain": [
       "dict_values([42])"
      ]
     },
     "execution_count": 13,
     "metadata": {},
     "output_type": "execute_result"
    }
   ],
   "source": [
    "d.values()"
   ]
  },
  {
   "cell_type": "code",
   "execution_count": null,
   "id": "f799f2f0",
   "metadata": {},
   "outputs": [],
   "source": [
    "3. What is the most significant distinction between a dictionary and a list?\n",
    "\n",
    "    Answer - \n",
    "           The most significant distinction between a dictionary and a list.\n",
    "           1.Lists are in ordered form.\n",
    "           2.Dictonary are in unorderd form."
   ]
  },
  {
   "cell_type": "code",
   "execution_count": null,
   "id": "5cce81f7",
   "metadata": {},
   "outputs": [],
   "source": [
    "4. What happens if you try to access spam['foo'] if spam is {'bar': 100}?"
   ]
  },
  {
   "cell_type": "code",
   "execution_count": 22,
   "id": "add415a0",
   "metadata": {},
   "outputs": [],
   "source": [
    "spam = {\"bar\" : 100}"
   ]
  },
  {
   "cell_type": "code",
   "execution_count": 28,
   "id": "ce9bfef3",
   "metadata": {},
   "outputs": [
    {
     "ename": "KeyError",
     "evalue": "'foo'",
     "output_type": "error",
     "traceback": [
      "\u001b[1;31m---------------------------------------------------------------------------\u001b[0m",
      "\u001b[1;31mKeyError\u001b[0m                                  Traceback (most recent call last)",
      "\u001b[1;32m~\\AppData\\Local\\Temp/ipykernel_6876/989400193.py\u001b[0m in \u001b[0;36m<module>\u001b[1;34m\u001b[0m\n\u001b[1;32m----> 1\u001b[1;33m \u001b[0mspam\u001b[0m\u001b[1;33m[\u001b[0m\u001b[1;34m\"foo\"\u001b[0m\u001b[1;33m]\u001b[0m\u001b[1;33m\u001b[0m\u001b[1;33m\u001b[0m\u001b[0m\n\u001b[0m",
      "\u001b[1;31mKeyError\u001b[0m: 'foo'"
     ]
    }
   ],
   "source": [
    " spam[\"foo\"]\n",
    "#it is giving me error message."
   ]
  },
  {
   "cell_type": "code",
   "execution_count": null,
   "id": "16427af2",
   "metadata": {},
   "outputs": [],
   "source": [
    "5. If a dictionary is stored in spam, what is the difference between the expressions 'cat' in spam and 'cat' in spam.keys()?\n",
    "\n",
    "   Answer -\n",
    "         'cat' in spam  =  This expression is checking whether there is a 'cat' key in the dictionary in then it's return true.\n",
    "        'cat' in spam.keys() = This expression is checking there is a keys in dictonary spam then it's return true."
   ]
  },
  {
   "cell_type": "code",
   "execution_count": 29,
   "id": "e6d279b5",
   "metadata": {},
   "outputs": [
    {
     "data": {
      "text/plain": [
       "True"
      ]
     },
     "execution_count": 29,
     "metadata": {},
     "output_type": "execute_result"
    }
   ],
   "source": [
    "spam = {\"cat\" : 100}\n",
    "\"cat\" in spam"
   ]
  },
  {
   "cell_type": "code",
   "execution_count": 30,
   "id": "caaaf8ed",
   "metadata": {},
   "outputs": [
    {
     "data": {
      "text/plain": [
       "True"
      ]
     },
     "execution_count": 30,
     "metadata": {},
     "output_type": "execute_result"
    }
   ],
   "source": [
    "\"cat\" in spam.keys()"
   ]
  },
  {
   "cell_type": "code",
   "execution_count": null,
   "id": "ca2abd95",
   "metadata": {},
   "outputs": [],
   "source": [
    "6. If a dictionary is stored in spam, what is the difference between the expressions 'cat' in spam and 'cat' in spam.values()?\n",
    "\n",
    " Answer - \n",
    "       'cat' in spam =   This expression is checking whether there is a 'cat' as a key in the dictionary in spam then it's return True.\n",
    "        'cat' in spam.values() =  This expression is checking there is a values 'cat' in dictonary spam then it's return False\n",
    "                      "
   ]
  },
  {
   "cell_type": "code",
   "execution_count": 5,
   "id": "09c54b9f",
   "metadata": {},
   "outputs": [
    {
     "data": {
      "text/plain": [
       "True"
      ]
     },
     "execution_count": 5,
     "metadata": {},
     "output_type": "execute_result"
    }
   ],
   "source": [
    "spam = {\"cat\": 1}\n",
    "\"cat\" in spam"
   ]
  },
  {
   "cell_type": "code",
   "execution_count": 8,
   "id": "df4ec46c",
   "metadata": {},
   "outputs": [
    {
     "data": {
      "text/plain": [
       "False"
      ]
     },
     "execution_count": 8,
     "metadata": {},
     "output_type": "execute_result"
    }
   ],
   "source": [
    "'cat' in spam.values()"
   ]
  },
  {
   "cell_type": "code",
   "execution_count": null,
   "id": "3da4ebdb",
   "metadata": {},
   "outputs": [],
   "source": [
    "7. What is a shortcut for the following code?\n",
    "if 'color' not in spam:\n",
    "if \"color\" != spam:\n",
    "    print(\"no color\")\n",
    "    \n",
    "    Answer = This can be achieved by using setdefault() which Inserts key with a value of default if key is not in the                         dictionary"
   ]
  },
  {
   "cell_type": "code",
   "execution_count": null,
   "id": "b8a609a0",
   "metadata": {},
   "outputs": [],
   "source": [
    "8. How do you 'pretty print' dictionary values using which module and function?\n",
    "\n",
    "   Answer = Prettyprint is the process of converting and presenting source code or other objects in a legible and attractive way. "
   ]
  },
  {
   "cell_type": "code",
   "execution_count": 2,
   "id": "2a2ed68e",
   "metadata": {},
   "outputs": [],
   "source": [
    "import pprint"
   ]
  },
  {
   "cell_type": "code",
   "execution_count": 8,
   "id": "9a757508",
   "metadata": {},
   "outputs": [],
   "source": [
    "iNeuron = [ {'Name': 'Sunny Sir', 'Age': '24', 'Country': 'India'},\n",
    "  {'Name': 'Shudhanshu sir', 'Age': '37', 'Country': 'India'},\n",
    "  {'Name': 'Krish sir', 'Age': '38', 'Country': 'India'},\n",
    "  {'Name': 'Shahzad Haidari', 'Age': '20', 'Country': 'India'}]\n"
   ]
  },
  {
   "cell_type": "code",
   "execution_count": 9,
   "id": "ccbcc05e",
   "metadata": {},
   "outputs": [
    {
     "name": "stdout",
     "output_type": "stream",
     "text": [
      "[{'Age': '24', 'Country': 'India', 'Name': 'Sunny Sir'},\n",
      " {'Age': '37', 'Country': 'India', 'Name': 'Shudhanshu sir'},\n",
      " {'Age': '38', 'Country': 'India', 'Name': 'Krish sir'},\n",
      " {'Age': '20', 'Country': 'India', 'Name': 'Shahzad Haidari'}]\n"
     ]
    }
   ],
   "source": [
    "#pprint example:\n",
    "pprint.pprint(iNeuron)"
   ]
  },
  {
   "cell_type": "code",
   "execution_count": 10,
   "id": "250c7723",
   "metadata": {},
   "outputs": [
    {
     "name": "stdout",
     "output_type": "stream",
     "text": [
      "[{'Name': 'Sunny Sir', 'Age': '24', 'Country': 'India'}, {'Name': 'Shudhanshu sir', 'Age': '37', 'Country': 'India'}, {'Name': 'Krish sir', 'Age': '38', 'Country': 'India'}, {'Name': 'Shahzad Haidari', 'Age': '20', 'Country': 'India'}]\n"
     ]
    }
   ],
   "source": [
    "#print example\n",
    "print(iNeuron)"
   ]
  },
  {
   "cell_type": "code",
   "execution_count": null,
   "id": "43054cc8",
   "metadata": {},
   "outputs": [],
   "source": []
  }
 ],
 "metadata": {
  "kernelspec": {
   "display_name": "Python 3 (ipykernel)",
   "language": "python",
   "name": "python3"
  },
  "language_info": {
   "codemirror_mode": {
    "name": "ipython",
    "version": 3
   },
   "file_extension": ".py",
   "mimetype": "text/x-python",
   "name": "python",
   "nbconvert_exporter": "python",
   "pygments_lexer": "ipython3",
   "version": "3.9.7"
  }
 },
 "nbformat": 4,
 "nbformat_minor": 5
}
