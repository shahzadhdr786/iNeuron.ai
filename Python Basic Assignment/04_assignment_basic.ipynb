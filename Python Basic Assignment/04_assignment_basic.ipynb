{
 "cells": [
  {
   "cell_type": "code",
   "execution_count": null,
   "id": "0bc176ac",
   "metadata": {},
   "outputs": [],
   "source": [
    "1. What exactly is []?\n",
    "\n",
    "    Answer - It is exactly an empty list.In pyhton lists are container to a store set of values of any data type."
   ]
  },
  {
   "cell_type": "code",
   "execution_count": null,
   "id": "559c0de7",
   "metadata": {},
   "outputs": [],
   "source": [
    "2. In a list of values stored in a variable called spam, how would you assign the value 'hello' as the third value? (Assume [2, 4, 6, 8, 10] are in spam.)"
   ]
  },
  {
   "cell_type": "markdown",
   "id": "c056a591",
   "metadata": {},
   "source": [
    "# Let's pretend the spam includes the list ['a', 'b', 'c', 'd'] for the next three queries."
   ]
  },
  {
   "cell_type": "code",
   "execution_count": 4,
   "id": "28aa73c4",
   "metadata": {},
   "outputs": [
    {
     "name": "stdout",
     "output_type": "stream",
     "text": [
      "[2, 4, 'hello', 8, 10]\n"
     ]
    }
   ],
   "source": [
    "# 2.Answer\n",
    "spam = [2,4,6,8,10]\n",
    "spam[2] = \"hello\"\n",
    "print(spam)"
   ]
  },
  {
   "cell_type": "code",
   "execution_count": null,
   "id": "95f8172a",
   "metadata": {},
   "outputs": [],
   "source": [
    "spam = ['a' , 'b' , 'c' , 'd']\n",
    "\n",
    "3. What is the value of spam[int(int('3' * 2) / 11)]?"
   ]
  },
  {
   "cell_type": "code",
   "execution_count": 5,
   "id": "2a9051ee",
   "metadata": {},
   "outputs": [
    {
     "data": {
      "text/plain": [
       "'d'"
      ]
     },
     "execution_count": 5,
     "metadata": {},
     "output_type": "execute_result"
    }
   ],
   "source": [
    "spam = ['a' , 'b' , 'c' , 'd']\n",
    "spam[int(int('3' * 2) / 11)]"
   ]
  },
  {
   "cell_type": "code",
   "execution_count": null,
   "id": "fd9f98d2",
   "metadata": {},
   "outputs": [],
   "source": [
    "4. What is the value of spam[-1]?"
   ]
  },
  {
   "cell_type": "code",
   "execution_count": 6,
   "id": "f28d8f04",
   "metadata": {},
   "outputs": [
    {
     "data": {
      "text/plain": [
       "'d'"
      ]
     },
     "execution_count": 6,
     "metadata": {},
     "output_type": "execute_result"
    }
   ],
   "source": [
    "# 4.Answer\n",
    "spam = ['a' , 'b' , 'c' , 'd']\n",
    "spam[-1]"
   ]
  },
  {
   "cell_type": "code",
   "execution_count": null,
   "id": "ee956ec2",
   "metadata": {},
   "outputs": [],
   "source": [
    "5. What is the value of spam[:2]?"
   ]
  },
  {
   "cell_type": "code",
   "execution_count": 8,
   "id": "6d2524f5",
   "metadata": {},
   "outputs": [
    {
     "data": {
      "text/plain": [
       "['a', 'b']"
      ]
     },
     "execution_count": 8,
     "metadata": {},
     "output_type": "execute_result"
    }
   ],
   "source": [
    "# 5.Answer\n",
    "spam = ['a' , 'b' , 'c' , 'd']\n",
    "spam[:2]"
   ]
  },
  {
   "cell_type": "markdown",
   "id": "10ef16fd",
   "metadata": {},
   "source": [
    "# Let's pretend bacon has the list [3.14, 'cat,' 11, 'cat,' True] for the next three questions.\n"
   ]
  },
  {
   "cell_type": "code",
   "execution_count": null,
   "id": "d47ad68d",
   "metadata": {},
   "outputs": [],
   "source": [
    "6. What is the value of bacon.index('cat')?"
   ]
  },
  {
   "cell_type": "code",
   "execution_count": 10,
   "id": "65421e52",
   "metadata": {},
   "outputs": [
    {
     "data": {
      "text/plain": [
       "1"
      ]
     },
     "execution_count": 10,
     "metadata": {},
     "output_type": "execute_result"
    }
   ],
   "source": [
    "# 6.Answer\n",
    "bacon = [3.14, 'cat' , 11, 'cat' , True]\n",
    "bacon.index('cat')"
   ]
  },
  {
   "cell_type": "code",
   "execution_count": null,
   "id": "9b1b1957",
   "metadata": {},
   "outputs": [],
   "source": [
    "bacon = [3.14, 'cat' , 11, 'cat' , True]\n",
    "7. How does bacon.append(99) change the look of the list value in bacon?"
   ]
  },
  {
   "cell_type": "code",
   "execution_count": 12,
   "id": "1360f697",
   "metadata": {},
   "outputs": [
    {
     "name": "stdout",
     "output_type": "stream",
     "text": [
      "[3.14, 'cat', 11, 'cat', True, 99]\n"
     ]
    }
   ],
   "source": [
    "# 7.Answer\n",
    "bacon = [3.14, 'cat' , 11, 'cat' , True]\n",
    "bacon.append(99)\n",
    "print(bacon)"
   ]
  },
  {
   "cell_type": "code",
   "execution_count": null,
   "id": "58fec35f",
   "metadata": {},
   "outputs": [],
   "source": [
    "bacon = [3.14, 'cat' , 11, 'cat' , True]\n",
    "8. How does bacon.remove('cat') change the look of the list in bacon?"
   ]
  },
  {
   "cell_type": "code",
   "execution_count": 15,
   "id": "10f06d4b",
   "metadata": {},
   "outputs": [
    {
     "name": "stdout",
     "output_type": "stream",
     "text": [
      "[3.14, 11, 'cat', True]\n"
     ]
    }
   ],
   "source": [
    "# 8.Answer\n",
    "bacon = [3.14, 'cat' , 11, 'cat' , True]\n",
    "bacon.remove('cat')\n",
    "print(bacon)"
   ]
  },
  {
   "cell_type": "code",
   "execution_count": null,
   "id": "2ae7d931",
   "metadata": {},
   "outputs": [],
   "source": [
    "9. What are the list concatenation and list replication operators?\n",
    "\n",
    "   Answer- \n",
    "            + -> List concatenation operater.\n",
    "            * -> List replication operator"
   ]
  },
  {
   "cell_type": "code",
   "execution_count": 1,
   "id": "b4aad2b6",
   "metadata": {},
   "outputs": [
    {
     "data": {
      "text/plain": [
       "[1, 2, 3, 4, 'shahzad', 'haidari']"
      ]
     },
     "execution_count": 1,
     "metadata": {},
     "output_type": "execute_result"
    }
   ],
   "source": [
    "#list concation operators\n",
    "l1 = [1,2,3,4]\n",
    "l2 = [\"shahzad\" ,\"haidari\"]\n",
    "l1+l2"
   ]
  },
  {
   "cell_type": "code",
   "execution_count": 3,
   "id": "4f02ed10",
   "metadata": {},
   "outputs": [
    {
     "data": {
      "text/plain": [
       "[1, 2, 3, 4, 1, 2, 3, 4, 1, 2, 3, 4, 1, 2, 3, 4]"
      ]
     },
     "execution_count": 3,
     "metadata": {},
     "output_type": "execute_result"
    }
   ],
   "source": [
    "#list replication operation\n",
    "l1 = [1,2,3,4]\n",
    "l1*4"
   ]
  },
  {
   "cell_type": "code",
   "execution_count": null,
   "id": "0a67a0ca",
   "metadata": {},
   "outputs": [],
   "source": [
    "10. What is difference between the list methods append() and insert()?\n",
    "\n",
    "    Answer - There is a simple difference between append and insert in python list,\n",
    "             Append method can be use for adding new element in the list only but\n",
    "             by using insert we can add as well as can modify already occupied position.\n",
    "             Append method takes one argument (which you have to insert in the list)\n",
    "             while insert method takes two elements (first will be the position of element and\n",
    "             second will the element itself).          "
   ]
  },
  {
   "cell_type": "code",
   "execution_count": 8,
   "id": "55a9b6e3",
   "metadata": {},
   "outputs": [
    {
     "name": "stdout",
     "output_type": "stream",
     "text": [
      "[1, 2, 3, 4, 'shahzad']\n"
     ]
    }
   ],
   "source": [
    "#Append Example:\n",
    "\n",
    "l1 = [1,2,3,4]\n",
    "l1.append(\"shahzad\")\n",
    "print(l1)\n",
    "# append adds the item at the end of the list\n"
   ]
  },
  {
   "cell_type": "code",
   "execution_count": 11,
   "id": "7eed6b8f",
   "metadata": {},
   "outputs": [
    {
     "name": "stdout",
     "output_type": "stream",
     "text": [
      "[1, 2, 3, 'shahzad', 4]\n"
     ]
    }
   ],
   "source": [
    "#Insert Example:\n",
    "l1 = [1,2,3,4]\n",
    "l1.insert(3,\"shahzad\")\n",
    "print(l1)\n",
    "#insert() can add them anywhere in the list."
   ]
  },
  {
   "cell_type": "code",
   "execution_count": null,
   "id": "6e2c0a81",
   "metadata": {},
   "outputs": [],
   "source": [
    "11.What are the two methods for removing items from a list?\n",
    "\n",
    "  Answer - The two methods for removing items from a list is.\n",
    "\n",
    "         1.remove() =>The remove() method removes the first matching value from the list.\n",
    "         \n",
    "         2.pop() => The pop() method like del deletes value at a particular index. But pop() method\n",
    "                    returns deleted value from the list."
   ]
  },
  {
   "cell_type": "code",
   "execution_count": 15,
   "id": "a4064752",
   "metadata": {},
   "outputs": [],
   "source": [
    "#remove operation\n",
    "l1 = [1,2,\"shahzad\",3,4,5]\n",
    "l1.remove(\"shahzad\")"
   ]
  },
  {
   "cell_type": "code",
   "execution_count": 16,
   "id": "92fd4645",
   "metadata": {},
   "outputs": [
    {
     "data": {
      "text/plain": [
       "[1, 2, 3, 4, 5]"
      ]
     },
     "execution_count": 16,
     "metadata": {},
     "output_type": "execute_result"
    }
   ],
   "source": [
    "l1"
   ]
  },
  {
   "cell_type": "code",
   "execution_count": 7,
   "id": "89181390",
   "metadata": {},
   "outputs": [
    {
     "data": {
      "text/plain": [
       "'shahzad'"
      ]
     },
     "execution_count": 7,
     "metadata": {},
     "output_type": "execute_result"
    }
   ],
   "source": [
    "#pop operation\n",
    "l = [1,2,\"shahzad\",3,4,5]\n",
    "l.pop(2)   "
   ]
  },
  {
   "cell_type": "code",
   "execution_count": 8,
   "id": "8671e687",
   "metadata": {},
   "outputs": [
    {
     "data": {
      "text/plain": [
       "[1, 2, 3, 4, 5]"
      ]
     },
     "execution_count": 8,
     "metadata": {},
     "output_type": "execute_result"
    }
   ],
   "source": [
    "l"
   ]
  },
  {
   "cell_type": "code",
   "execution_count": null,
   "id": "5cf6bdcf",
   "metadata": {},
   "outputs": [],
   "source": [
    "12. Describe how list values and string values are identical.\n",
    "\n",
    " Answer -\n",
    "          1.  In both of them we can pass len() funtion.\n",
    "          2.  In both them we can easily perform concatitation operation and slicing operation.\n",
    "          3.  In both of them we can use replication function.\n",
    "          4.  In both of them We can easily access the indexes of list and string.\n",
    "          5.  In both of them we can pass count(),\n",
    "    "
   ]
  },
  {
   "cell_type": "code",
   "execution_count": null,
   "id": "764e6f32",
   "metadata": {},
   "outputs": [],
   "source": [
    "13. What's the difference between tuples and lists?\n",
    "\n",
    "   Answer - \n",
    "             1.Bracket notation\n",
    "             List = []\n",
    "             Tuples = ()\n",
    "          \n",
    "             2. List is mutable intity and tuples is immutable intity.\n",
    "       \n",
    "             3.List consume more memory and tuples consume less memory as compare to the list.\n",
    "        "
   ]
  },
  {
   "cell_type": "code",
   "execution_count": null,
   "id": "1f55b8a5",
   "metadata": {},
   "outputs": [],
   "source": [
    "14. How do you type a tuple value that only contains the integer 42?"
   ]
  },
  {
   "cell_type": "code",
   "execution_count": 21,
   "id": "1b8e76da",
   "metadata": {},
   "outputs": [
    {
     "data": {
      "text/plain": [
       "(42,)"
      ]
     },
     "execution_count": 21,
     "metadata": {},
     "output_type": "execute_result"
    }
   ],
   "source": [
    "# 14.Answer\n",
    "(42,)"
   ]
  },
  {
   "cell_type": "code",
   "execution_count": null,
   "id": "700342d3",
   "metadata": {},
   "outputs": [],
   "source": [
    "15. How do you get a list value's tuple form? How do you get a tuple value's list form?"
   ]
  },
  {
   "cell_type": "code",
   "execution_count": 23,
   "id": "5310bf87",
   "metadata": {},
   "outputs": [
    {
     "data": {
      "text/plain": [
       "[1, 2, 3, 'shahzad']"
      ]
     },
     "execution_count": 23,
     "metadata": {},
     "output_type": "execute_result"
    }
   ],
   "source": [
    "# 15.Answer\n",
    "#tuple to list \n",
    "t = (1,2,3,\"shahzad\")\n",
    "l = list(t)\n",
    "l"
   ]
  },
  {
   "cell_type": "code",
   "execution_count": 24,
   "id": "141de1d8",
   "metadata": {},
   "outputs": [
    {
     "data": {
      "text/plain": [
       "(1, 2, 3, 'haidari')"
      ]
     },
     "execution_count": 24,
     "metadata": {},
     "output_type": "execute_result"
    }
   ],
   "source": [
    "#list to tuple\n",
    "l = [1,2,3,\"haidari\"]\n",
    "t = tuple(l)\n",
    "t"
   ]
  },
  {
   "cell_type": "code",
   "execution_count": null,
   "id": "fc1e63a6",
   "metadata": {},
   "outputs": [],
   "source": [
    "16. Variables that \"contain\" list values are not necessarily lists themselves. Instead, what do they contain?\n",
    "\n",
    "   Answer - \n",
    "         Variables will contain references to list values rather than list values themselvesVariables will contain references to \n",
    "         list values rather than list values themselves."
   ]
  },
  {
   "cell_type": "code",
   "execution_count": null,
   "id": "96e6311f",
   "metadata": {},
   "outputs": [],
   "source": [
    "17. How do you distinguish between copy.copy() and copy.deepcopy()?\n",
    "\n",
    "  Answer - \n",
    "         The copy.copy() function will do a shallow copy of a list, \n",
    "         In copy.deepcopy any changes made to a copy of object do not reflect in the orignal object.\n",
    "        \n"
   ]
  },
  {
   "cell_type": "code",
   "execution_count": 37,
   "id": "fa01d3e7",
   "metadata": {},
   "outputs": [],
   "source": [
    "#copy.copy() operation\n",
    "lst1 = [1,2,3,4]\n",
    "ls= copy.copy(lst1)"
   ]
  },
  {
   "cell_type": "code",
   "execution_count": 38,
   "id": "b3bdd2d2",
   "metadata": {},
   "outputs": [],
   "source": [
    "ls[1] = 100 "
   ]
  },
  {
   "cell_type": "code",
   "execution_count": 39,
   "id": "d32adf0d",
   "metadata": {},
   "outputs": [
    {
     "data": {
      "text/plain": [
       "[1, 100, 3, 4]"
      ]
     },
     "execution_count": 39,
     "metadata": {},
     "output_type": "execute_result"
    }
   ],
   "source": [
    "ls"
   ]
  },
  {
   "cell_type": "code",
   "execution_count": 40,
   "id": "d368a3cd",
   "metadata": {},
   "outputs": [
    {
     "data": {
      "text/plain": [
       "[1, 2, 3, 4]"
      ]
     },
     "execution_count": 40,
     "metadata": {},
     "output_type": "execute_result"
    }
   ],
   "source": [
    "lst1"
   ]
  },
  {
   "cell_type": "code",
   "execution_count": 8,
   "id": "9dc8c7e5",
   "metadata": {},
   "outputs": [],
   "source": [
    "#copy.deepcopy()\n",
    "import copy\n",
    "lst3 = [15,[12,13],[14,15],13]\n",
    "lst4 = copy.deepcopy(lst3)"
   ]
  },
  {
   "cell_type": "code",
   "execution_count": 6,
   "id": "7638e06a",
   "metadata": {},
   "outputs": [],
   "source": [
    "lst3[1][0] = 20"
   ]
  },
  {
   "cell_type": "code",
   "execution_count": 7,
   "id": "f3883612",
   "metadata": {},
   "outputs": [
    {
     "data": {
      "text/plain": [
       "[15, [20, 13], [14, 15], 13]"
      ]
     },
     "execution_count": 7,
     "metadata": {},
     "output_type": "execute_result"
    }
   ],
   "source": [
    "lst3"
   ]
  },
  {
   "cell_type": "code",
   "execution_count": 9,
   "id": "92d6bb7b",
   "metadata": {},
   "outputs": [
    {
     "data": {
      "text/plain": [
       "[15, [12, 13], [14, 15], 13]"
      ]
     },
     "execution_count": 9,
     "metadata": {},
     "output_type": "execute_result"
    }
   ],
   "source": [
    "lst4"
   ]
  },
  {
   "cell_type": "code",
   "execution_count": null,
   "id": "d9631991",
   "metadata": {},
   "outputs": [],
   "source": []
  }
 ],
 "metadata": {
  "kernelspec": {
   "display_name": "Python 3 (ipykernel)",
   "language": "python",
   "name": "python3"
  },
  "language_info": {
   "codemirror_mode": {
    "name": "ipython",
    "version": 3
   },
   "file_extension": ".py",
   "mimetype": "text/x-python",
   "name": "python",
   "nbconvert_exporter": "python",
   "pygments_lexer": "ipython3",
   "version": "3.9.7"
  }
 },
 "nbformat": 4,
 "nbformat_minor": 5
}
