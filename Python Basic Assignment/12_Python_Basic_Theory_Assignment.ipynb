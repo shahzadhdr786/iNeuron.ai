{
 "cells": [
  {
   "cell_type": "markdown",
   "id": "a8e365e4",
   "metadata": {},
   "source": [
    "# 1. In what modes should the PdfFileReader() and PdfFileWriter() File objects will be opened?"
   ]
  },
  {
   "cell_type": "markdown",
   "id": "102f467a",
   "metadata": {},
   "source": [
    "Answer = \n",
    "      \n",
    "      # pip install PyPDF2\n",
    "\n",
    "      These files will be opened in binary mode., read binary (rb) for PdfFileREader() and write binary (wb)  PdfFileWriter()"
   ]
  },
  {
   "cell_type": "markdown",
   "id": "0335fc89",
   "metadata": {},
   "source": [
    "# 2. From a PdfFileReader object, how do you get a Page object for page 5?"
   ]
  },
  {
   "cell_type": "markdown",
   "id": "8fe58b95",
   "metadata": {},
   "source": [
    "Answer = Calling getPage(4) will return a Page object for page 5 since page 0 is the first page.\n",
    " import PyPDF2 as pdf\n",
    "pdfFileObj = open(\"my_file.pdf\",'rb')\n",
    "pdfReader = pdf.PdfFileReader(pdfFileObj)\n",
    "pageObj = pdfReader.getPage(4)\n",
    "pageObj.extractText()"
   ]
  },
  {
   "cell_type": "markdown",
   "id": "6d9100ef",
   "metadata": {},
   "source": [
    "# 3. What PdfFileReader variable stores the number of pages in the PDF document?"
   ]
  },
  {
   "cell_type": "markdown",
   "id": "4903b1e6",
   "metadata": {},
   "source": [
    "Answer=The numPages variable stores the number of pages in the PdfFileReader object in integer format.\n",
    "import PyPDF2 as pdf\n",
    "pdfFileObj = open(\"my_sample_file.pdf\",'rb')\n",
    "pdfReader = pdf.PdfFileReader(pdfFileObj)\n",
    "pdfReader.numPages"
   ]
  },
  {
   "cell_type": "markdown",
   "id": "538d00ad",
   "metadata": {},
   "source": [
    "# 4. If a PdfFileReader object’s PDF is encrypted with the password swordfish, what must you do before you can obtain Page objects from it?"
   ]
  },
  {
   "cell_type": "markdown",
   "id": "6859555e",
   "metadata": {},
   "source": [
    "Answer=before we obtain the page object, the pdf has to be decrypted by calling .decrypt('swordfish')\n",
    "\n",
    "pdfReader.decrypt('swordfish')"
   ]
  },
  {
   "cell_type": "markdown",
   "id": "9d68bac9",
   "metadata": {},
   "source": [
    "# 5. What methods do you use to rotate a page?"
   ]
  },
  {
   "cell_type": "markdown",
   "id": "f51c4186",
   "metadata": {},
   "source": [
    "Answer = The rotateClockwise() and rotateCounterClockwise() methods. The degrees to rotate is passed as an integer argument\n",
    "\n",
    "pageObj.rotateClockwise(180)"
   ]
  },
  {
   "cell_type": "markdown",
   "id": "aca935e0",
   "metadata": {},
   "source": [
    "# 6. What is the difference between a Run object and a Paragraph object?"
   ]
  },
  {
   "cell_type": "markdown",
   "id": "0f04023b",
   "metadata": {},
   "source": [
    "Answer = Paragraph Object:\n",
    "\n",
    "=>A document contains multiple paragraphs.\n",
    "=>A paragraph begins on a new line and contains multiple runs.\n",
    "=>The Document object contains a list of Paragraph objects for the paragraphs in the document.\n",
    "\n",
    "Run Objects:\n",
    "\n",
    "Runs are contiguous groups of characters within a paragraph with the same style."
   ]
  },
  {
   "cell_type": "markdown",
   "id": "692f47ee",
   "metadata": {},
   "source": [
    "# 7. How do you obtain a list of Paragraph objects for a Document object that’s stored in a variable named doc?"
   ]
  },
  {
   "cell_type": "markdown",
   "id": "25828cfd",
   "metadata": {},
   "source": [
    "Answer = By using doc.paragraphs\n",
    "import docx\n",
    "doc = docx.Document('demo.docx')\n",
    "doc.paragraphs"
   ]
  },
  {
   "cell_type": "markdown",
   "id": "43c330f5",
   "metadata": {},
   "source": [
    "# 8. What type of object has bold, underline, italic, strike, and outline variables?"
   ]
  },
  {
   "cell_type": "markdown",
   "id": "57194981",
   "metadata": {},
   "source": [
    "Answer = A Run object has bold, underline,italic,strike and outline variables"
   ]
  },
  {
   "cell_type": "markdown",
   "id": "f27fd78f",
   "metadata": {},
   "source": [
    "# 9. What is the difference between False, True, and None for the bold variable?"
   ]
  },
  {
   "cell_type": "markdown",
   "id": "227d5160",
   "metadata": {},
   "source": [
    "Answer = Runs can be further styled using text attributes. Each attribute can be set to one of three values: True (the attribute is always enabled, no matter what other styles are applied to the run), False (the attribute is always disabled), None (defaults to whatever the run’s style is set to)\n",
    "\n",
    "=>True always makes the Run object bolded\n",
    "=>False makes it always not bolded, no matter what the style’s bold setting is\n",
    "=>None will make the Run object just use the style’s bold setting"
   ]
  },
  {
   "cell_type": "markdown",
   "id": "52be2443",
   "metadata": {},
   "source": [
    "# 10. How do you create a Document object for a new Word document?"
   ]
  },
  {
   "cell_type": "markdown",
   "id": "d0b88587",
   "metadata": {},
   "source": [
    "Answer = docx.Document() function creates a new Document object."
   ]
  },
  {
   "cell_type": "markdown",
   "id": "589ec3d5",
   "metadata": {},
   "source": [
    "# 11. How do you add a paragraph with the text 'Hello, there!'' to a Document object stored in a variable named doc?"
   ]
  },
  {
   "cell_type": "markdown",
   "id": "29e6cc30",
   "metadata": {},
   "source": [
    "import docx\n",
    "doc = docx.Document()\n",
    "\n",
    "doc.add_paragraph('Hello there!')\n",
    "doc.save('hellothere.docx')"
   ]
  },
  {
   "cell_type": "markdown",
   "id": "b07bb586",
   "metadata": {},
   "source": [
    "# 12. What integers represent the levels of headings available in Word documents?"
   ]
  },
  {
   "cell_type": "markdown",
   "id": "c629261a",
   "metadata": {},
   "source": [
    "Answer = integer from 0 to 4\n",
    "The arguments to add_heading() are a string of the heading text and an integer from 0 to 4. The integer 0 makes the heading the Title style, which is used for the top of the document. Integers 1 to 4 are for various heading levels, with 1 being the main heading and 4 the lowest subheading"
   ]
  }
 ],
 "metadata": {
  "kernelspec": {
   "display_name": "Python 3 (ipykernel)",
   "language": "python",
   "name": "python3"
  },
  "language_info": {
   "codemirror_mode": {
    "name": "ipython",
    "version": 3
   },
   "file_extension": ".py",
   "mimetype": "text/x-python",
   "name": "python",
   "nbconvert_exporter": "python",
   "pygments_lexer": "ipython3",
   "version": "3.9.7"
  }
 },
 "nbformat": 4,
 "nbformat_minor": 5
}
