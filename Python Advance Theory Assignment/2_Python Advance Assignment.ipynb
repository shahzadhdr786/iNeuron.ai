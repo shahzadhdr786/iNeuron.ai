{
 "cells": [
  {
   "cell_type": "markdown",
   "id": "e7f061d1",
   "metadata": {},
   "source": [
    "## Q1. What is the relationship between classes and modules?"
   ]
  },
  {
   "cell_type": "markdown",
   "id": "aa827763",
   "metadata": {},
   "source": [
    "classes are blueprints of objects which contain members like fields and methods. \n",
    "Module introduces the definition related to properties, events, variables and procedures of its members.\n",
    "Modules cannot be instantiated like classes.\n",
    "classes are that they provide reusability of the code and one can also use inheritance concepts in programming using classes."
   ]
  },
  {
   "cell_type": "markdown",
   "id": "db3e2316",
   "metadata": {},
   "source": [
    "## Q2. How do you make instances and classes?"
   ]
  },
  {
   "cell_type": "markdown",
   "id": "f2b6db6e",
   "metadata": {},
   "source": [
    "Instance is nothing but a new object of a particular class."
   ]
  },
  {
   "cell_type": "code",
   "execution_count": 1,
   "id": "668f129c",
   "metadata": {},
   "outputs": [],
   "source": [
    "#Ex:\n",
    "class Car:\n",
    "    pass"
   ]
  },
  {
   "cell_type": "code",
   "execution_count": 2,
   "id": "7b55b5d6",
   "metadata": {},
   "outputs": [],
   "source": [
    "ford=Car()"
   ]
  },
  {
   "cell_type": "markdown",
   "id": "08adea6e",
   "metadata": {},
   "source": [
    "In the above example Car is a class and for is an instance"
   ]
  },
  {
   "cell_type": "markdown",
   "id": "b2717245",
   "metadata": {},
   "source": [
    "## Q3. Where and how should be class attributes created?"
   ]
  },
  {
   "cell_type": "markdown",
   "id": "01c8892e",
   "metadata": {},
   "source": [
    "Class attributes are the variables defined directly in the class that are shared by all objects of the class.\n",
    "Accessed using class name as well as using object with dot notation, e.g. classname.class_attribute or object.class_attribute"
   ]
  },
  {
   "cell_type": "code",
   "execution_count": 3,
   "id": "28a5a954",
   "metadata": {},
   "outputs": [],
   "source": [
    "class Student:\n",
    "    count = 0\n",
    "    def __init__(self):\n",
    "        pass                "
   ]
  },
  {
   "cell_type": "markdown",
   "id": "91435c51",
   "metadata": {},
   "source": [
    "Here count is a class attribute"
   ]
  },
  {
   "cell_type": "markdown",
   "id": "a0c1aa27",
   "metadata": {},
   "source": [
    "## Q4. Where and how are instance attributes created?\n"
   ]
  },
  {
   "cell_type": "markdown",
   "id": "9d154e24",
   "metadata": {},
   "source": [
    "Instance attributes are attributes or properties attached to an instance of a class. Instance attributes are defined in the constructor.\n",
    "Accessed using object dot notation e.g. object.instance_attribute"
   ]
  },
  {
   "cell_type": "code",
   "execution_count": 4,
   "id": "038ff271",
   "metadata": {},
   "outputs": [],
   "source": [
    "class Student:\n",
    "    def __init__(self, name, age): \n",
    "        self.name = name\n",
    "        self.age = age\n"
   ]
  },
  {
   "cell_type": "markdown",
   "id": "37e584e1",
   "metadata": {},
   "source": [
    "Here name,age are instance objects"
   ]
  },
  {
   "cell_type": "markdown",
   "id": "09e2cc28",
   "metadata": {},
   "source": [
    "## Q5. What does the term 'self' in a Python class mean?\n"
   ]
  },
  {
   "cell_type": "markdown",
   "id": "2bff5e98",
   "metadata": {},
   "source": [
    "Self represents the instance of the class. By using the “self” keyword we can access the attributes and methods of the class in python. It binds the attributes with the given arguments.The reason you need to use self. is because Python does not use the @ syntax to refer to instance attributes. Python decided to do methods in a way that makes the instance to which the method belongs be passed automatically, but not received automatically: the first parameter of methods is the instance the method is called on."
   ]
  },
  {
   "cell_type": "markdown",
   "id": "d4ed9a90",
   "metadata": {},
   "source": [
    "## Q6. How does a Python class handle operator overloading?"
   ]
  },
  {
   "cell_type": "markdown",
   "id": "03b37d5a",
   "metadata": {},
   "source": [
    "Operator Overloading means giving extended meaning beyond their predefined operational meaning. For example operator + is used to add two integers as well as join two strings and merge two lists. It is achievable because ‘+’ operator is overloaded by int class and str class."
   ]
  },
  {
   "cell_type": "code",
   "execution_count": 5,
   "id": "8bb774ea",
   "metadata": {},
   "outputs": [
    {
     "name": "stdout",
     "output_type": "stream",
     "text": [
      "3\n",
      "abcdefg\n",
      "39\n",
      "IneuronIneuronIneuronIneuron\n"
     ]
    }
   ],
   "source": [
    "# + and * operator is used for different purpose\n",
    "\n",
    "print(1 + 2)\n",
    " \n",
    "# concatenate two strings\n",
    "print(\"abcd\"+\"efg\")\n",
    " \n",
    "# Product two numbers\n",
    "print(13 * 3)\n",
    " \n",
    "# Repeat the String\n",
    "print(\"Ineuron\"*4)\n"
   ]
  },
  {
   "cell_type": "markdown",
   "id": "2d8e3b63",
   "metadata": {},
   "source": [
    "## Q7. When do you consider allowing operator overloading of your classes?\n"
   ]
  },
  {
   "cell_type": "markdown",
   "id": "75b17d3e",
   "metadata": {},
   "source": [
    "Let us assumewe have an object called string1 which is a string object as defined below. Now, when we try to add a string to this string object, the compiler will throw an error. This is because the compiler doesn't know how to add them.\n",
    "\n"
   ]
  },
  {
   "cell_type": "code",
   "execution_count": 6,
   "id": "b8ac8cc2",
   "metadata": {},
   "outputs": [
    {
     "ename": "TypeError",
     "evalue": "unsupported operand type(s) for +: 'String' and 'str'",
     "output_type": "error",
     "traceback": [
      "\u001b[1;31m---------------------------------------------------------------------------\u001b[0m",
      "\u001b[1;31mTypeError\u001b[0m                                 Traceback (most recent call last)",
      "\u001b[1;32mC:\\Users\\AISHWA~1\\AppData\\Local\\Temp/ipykernel_22512/2009228677.py\u001b[0m in \u001b[0;36m<module>\u001b[1;34m\u001b[0m\n\u001b[0;32m      9\u001b[0m \u001b[1;33m\u001b[0m\u001b[0m\n\u001b[0;32m     10\u001b[0m \u001b[1;31m# concatenate String object and a string\u001b[0m\u001b[1;33m\u001b[0m\u001b[1;33m\u001b[0m\u001b[0m\n\u001b[1;32m---> 11\u001b[1;33m \u001b[0mprint\u001b[0m\u001b[1;33m(\u001b[0m\u001b[0mstring1\u001b[0m \u001b[1;33m+\u001b[0m\u001b[1;34m' world'\u001b[0m\u001b[1;33m)\u001b[0m\u001b[1;33m\u001b[0m\u001b[1;33m\u001b[0m\u001b[0m\n\u001b[0m",
      "\u001b[1;31mTypeError\u001b[0m: unsupported operand type(s) for +: 'String' and 'str'"
     ]
    }
   ],
   "source": [
    "# declare our own string class\n",
    "class String:\n",
    "    def __init__(self, string):\n",
    "            self.string = string         \n",
    "    def __repr__(self):\n",
    "        return 'Object: {}'.format(self.string)\n",
    "\n",
    "string1 = String('Hello')    \n",
    "\n",
    "# concatenate String object and a string\n",
    "print(string1 +' world')\n"
   ]
  },
  {
   "cell_type": "markdown",
   "id": "7bb446ab",
   "metadata": {},
   "source": [
    "This error can be avoided by adding the add method to the String class. This way, we are overloading the + operator to concatenate a string object with a string.\n"
   ]
  },
  {
   "cell_type": "code",
   "execution_count": null,
   "id": "bb2c9d55",
   "metadata": {},
   "outputs": [],
   "source": [
    "# declare our own string class\n",
    "class String:\n",
    "    def __init__(self, string):\n",
    "            self.string = string         \n",
    "                \n",
    "    def __add__(self, other):\n",
    "          return self.string + other\n",
    "            \n",
    "    def __repr__(self):\n",
    "        return 'Object: {}'.format(self.string)\n",
    "\n",
    "string1 = String('Hello')    \n",
    "\n",
    "# concatenate String object and a string\n",
    "print(string1 +' world')\n"
   ]
  },
  {
   "cell_type": "markdown",
   "id": "2c1c5743",
   "metadata": {},
   "source": [
    "## Q8. What is the most popular form of operator overloading?\n"
   ]
  },
  {
   "cell_type": "markdown",
   "id": "3c076b5b",
   "metadata": {},
   "source": [
    "Most popular form of operator overloading is of addition (+) operator. When two integers are passed to + operator, it will return the sum of two integers. When two strings are passed to + operator, it will return concatenation of two strings."
   ]
  },
  {
   "cell_type": "markdown",
   "id": "781ae7b7",
   "metadata": {},
   "source": [
    "## Q9. What are the two most important concepts to grasp in order to comprehend Python OOP code?"
   ]
  },
  {
   "cell_type": "markdown",
   "id": "72ad26c5",
   "metadata": {},
   "source": [
    "1.Inheritance.\n",
    "2.Polymorphism."
   ]
  }
 ],
 "metadata": {
  "kernelspec": {
   "display_name": "Python 3 (ipykernel)",
   "language": "python",
   "name": "python3"
  },
  "language_info": {
   "codemirror_mode": {
    "name": "ipython",
    "version": 3
   },
   "file_extension": ".py",
   "mimetype": "text/x-python",
   "name": "python",
   "nbconvert_exporter": "python",
   "pygments_lexer": "ipython3",
   "version": "3.9.7"
  }
 },
 "nbformat": 4,
 "nbformat_minor": 5
}
