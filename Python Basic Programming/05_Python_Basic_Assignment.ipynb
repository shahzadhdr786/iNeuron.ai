{
 "cells": [
  {
   "cell_type": "markdown",
   "id": "1a6d438c",
   "metadata": {},
   "source": [
    "# 1. Write a Python Program to Find LCM?"
   ]
  },
  {
   "cell_type": "code",
   "execution_count": 3,
   "id": "f823e5ca",
   "metadata": {},
   "outputs": [
    {
     "name": "stdout",
     "output_type": "stream",
     "text": [
      "Enter first number: 3\n",
      "Enter second number: 4\n",
      "The L.C.M. of 3 and 4 is 12\n"
     ]
    }
   ],
   "source": [
    "def calculate_lcm(x, y):  \n",
    "    # selecting the greater number  \n",
    "    if x > y:  \n",
    "        greater = x  \n",
    "    else:  \n",
    "        greater = y  \n",
    "    while(True):  \n",
    "        if((greater % x == 0) and (greater % y == 0)):  \n",
    "            lcm = greater  \n",
    "            break  \n",
    "        greater += 1  \n",
    "    return lcm    \n",
    "  \n",
    "# taking input from users  \n",
    "num1 = int(input(\"Enter first number: \"))  \n",
    "num2 = int(input(\"Enter second number: \"))  \n",
    "# printing the result for the users  \n",
    "print(\"The L.C.M. of\", num1,\"and\", num2,\"is\", calculate_lcm(num1, num2))  "
   ]
  },
  {
   "cell_type": "markdown",
   "id": "5915e87e",
   "metadata": {},
   "source": [
    "# 2. Write a Python Program to Find HCF?"
   ]
  },
  {
   "cell_type": "code",
   "execution_count": 4,
   "id": "5e15a29f",
   "metadata": {},
   "outputs": [
    {
     "name": "stdout",
     "output_type": "stream",
     "text": [
      "Enter first number: 3\n",
      "Enter second number: 4\n",
      "The H.C.F. of 3 and 4 is 1\n"
     ]
    }
   ],
   "source": [
    "def calculate_hcf(x, y):  \n",
    "    # selecting the smaller number  \n",
    "    if x > y:  \n",
    "        smaller = y  \n",
    "    else:  \n",
    "        smaller = x  \n",
    "    for i in range(1,smaller + 1):  \n",
    "        if((x % i == 0) and (y % i == 0)):  \n",
    "            hcf = i  \n",
    "    return hcf  \n",
    "  \n",
    "# taking input from users  \n",
    "num1 = int(input(\"Enter first number: \"))  \n",
    "num2 = int(input(\"Enter second number: \"))  \n",
    "# printing the result for the users  \n",
    "print(\"The H.C.F. of\", num1,\"and\", num2,\"is\", calculate_hcf(num1, num2))  "
   ]
  },
  {
   "cell_type": "markdown",
   "id": "05d411d1",
   "metadata": {},
   "source": [
    "# 3. Write a Python Program to Convert Decimal to Binary, Octal and Hexadecimal?"
   ]
  },
  {
   "cell_type": "code",
   "execution_count": 8,
   "id": "e7b8b00c",
   "metadata": {},
   "outputs": [
    {
     "name": "stdout",
     "output_type": "stream",
     "text": [
      "Enter any decimal number: 5\n",
      "101"
     ]
    }
   ],
   "source": [
    "def decimalToBinary(num):\n",
    "    \"\"\"This function converts decimal number\n",
    "    to binary and prints it\"\"\"\n",
    "    if num > 1:\n",
    "        decimalToBinary(num // 2)\n",
    "    print(num % 2, end='')\n",
    "\n",
    "\n",
    "# decimal number\n",
    "number = int(input(\"Enter any decimal number: \"))\n",
    "decimalToBinary(number)\n"
   ]
  },
  {
   "cell_type": "markdown",
   "id": "4de7605b",
   "metadata": {},
   "source": [
    "# 4. Write a Python Program To Find ASCII value of a character?\n"
   ]
  },
  {
   "cell_type": "code",
   "execution_count": 1,
   "id": "83f32aba",
   "metadata": {},
   "outputs": [
    {
     "name": "stdout",
     "output_type": "stream",
     "text": [
      "Enter a character: 4\n",
      "ASCII value of 4 is 52\n"
     ]
    }
   ],
   "source": [
    "try:\n",
    "    char = input(\"Enter a character: \")\n",
    "    ASCII = ord(char)\n",
    "    print(\"ASCII value of {} is {}\".format(char, ASCII))\n",
    "except Exception as e:\n",
    "    print(e)"
   ]
  },
  {
   "cell_type": "markdown",
   "id": "be552021",
   "metadata": {},
   "source": [
    "# 5. Write a Python Program to Make a Simple Calculator with 4 basic mathematical operations?"
   ]
  },
  {
   "cell_type": "code",
   "execution_count": null,
   "id": "17e1d521",
   "metadata": {},
   "outputs": [
    {
     "name": "stdout",
     "output_type": "stream",
     "text": [
      "Enter first number: 4\n",
      "Enter second number: 6\n",
      "\n",
      "For addition:       +\n",
      "For subtraction:    -\n",
      "For multiplicaton:  *\n",
      "For division:       /\n",
      "For Exit:            X\n",
      "\n",
      "Enter the choice for mathematical operations: +\n",
      "\n",
      "Result:  10\n",
      "Enter first number: 3\n",
      "Enter second number: 7\n",
      "\n",
      "For addition:       +\n",
      "For subtraction:    -\n",
      "For multiplicaton:  *\n",
      "For division:       /\n",
      "For Exit:            X\n",
      "\n",
      "Enter the choice for mathematical operations: *\n",
      "\n",
      "Result:  21\n"
     ]
    }
   ],
   "source": [
    "try:\n",
    "    \n",
    "    while True:\n",
    "        num1 = int(input(\"Enter first number: \"))\n",
    "        num2 = int(input(\"Enter second number: \"))\n",
    "        \n",
    "        print(\"\\nFor addition:       +\")\n",
    "        print(\"For subtraction:    -\")\n",
    "        print(\"For multiplicaton:  *\")\n",
    "        print(\"For division:       /\")\n",
    "        print(\"For Exit:            X\")\n",
    "        \n",
    "        ch = input(\"\\nEnter the choice for mathematical operations: \")\n",
    "        \n",
    "        \n",
    "        if ch == '+':\n",
    "            output = num1 + num2\n",
    "        elif ch == '-':\n",
    "            output = num1 - num2\n",
    "        elif ch == '*':\n",
    "            output = num1 * num2\n",
    "        elif ch == '/':\n",
    "            output = num1 / num2\n",
    "        \n",
    "        if ch == 'X' or ch == 'x':\n",
    "            break\n",
    "            \n",
    "        print(\"\\nResult: \", output)\n",
    "        \n",
    "        \n",
    "            \n",
    "except Exception as e:\n",
    "    print(e)"
   ]
  },
  {
   "cell_type": "code",
   "execution_count": null,
   "id": "8f9b3191",
   "metadata": {},
   "outputs": [],
   "source": []
  }
 ],
 "metadata": {
  "kernelspec": {
   "display_name": "Python 3 (ipykernel)",
   "language": "python",
   "name": "python3"
  },
  "language_info": {
   "codemirror_mode": {
    "name": "ipython",
    "version": 3
   },
   "file_extension": ".py",
   "mimetype": "text/x-python",
   "name": "python",
   "nbconvert_exporter": "python",
   "pygments_lexer": "ipython3",
   "version": "3.9.7"
  }
 },
 "nbformat": 4,
 "nbformat_minor": 5
}
