{
 "cells": [
  {
   "cell_type": "markdown",
   "id": "992f6d7b",
   "metadata": {},
   "source": [
    "# Q1. What is the purpose of Python&#39;s OOP?"
   ]
  },
  {
   "cell_type": "markdown",
   "id": "8c20d3ce",
   "metadata": {},
   "source": [
    "Answer - The purpose of OOP is \n",
    "          1.Modular Coding\n",
    "          2.Code reusability\n",
    "          3.Facilitates easy maintenance and modification of existing code."
   ]
  },
  {
   "cell_type": "markdown",
   "id": "d6bca1af",
   "metadata": {},
   "source": [
    "# Q2. Where does an inheritance search look for an attribute?"
   ]
  },
  {
   "cell_type": "markdown",
   "id": "65d2d15d",
   "metadata": {},
   "source": [
    "Answer = The inheritence search happens in bottom up fashion. It starts from object.attr and search all the way upto the            parent class to find the first occurence of the attribute."
   ]
  },
  {
   "cell_type": "markdown",
   "id": "b324bd36",
   "metadata": {},
   "source": [
    "# Q3.How do you distinguish between a class object and an instance object?"
   ]
  },
  {
   "cell_type": "code",
   "execution_count": 2,
   "id": "1b6d8c93",
   "metadata": {},
   "outputs": [],
   "source": [
    "class test:\n",
    "    a=2\n",
    "    def __init__(self,b):\n",
    "        self.b=b\n"
   ]
  },
  {
   "cell_type": "code",
   "execution_count": 3,
   "id": "f80ca7d2",
   "metadata": {},
   "outputs": [
    {
     "data": {
      "text/plain": [
       "2"
      ]
     },
     "execution_count": 3,
     "metadata": {},
     "output_type": "execute_result"
    }
   ],
   "source": [
    "#class object\n",
    "test.a"
   ]
  },
  {
   "cell_type": "code",
   "execution_count": 5,
   "id": "1be36509",
   "metadata": {},
   "outputs": [],
   "source": [
    "#instance object\n",
    "test_object = test(5) "
   ]
  },
  {
   "cell_type": "code",
   "execution_count": 6,
   "id": "5bb5961d",
   "metadata": {},
   "outputs": [
    {
     "data": {
      "text/plain": [
       "5"
      ]
     },
     "execution_count": 6,
     "metadata": {},
     "output_type": "execute_result"
    }
   ],
   "source": [
    "test_object.b"
   ]
  },
  {
   "cell_type": "markdown",
   "id": "2c090c3e",
   "metadata": {},
   "source": [
    "# Q4.What makes the first argument in a class’s method function special?"
   ]
  },
  {
   "cell_type": "markdown",
   "id": "9e8a61aa",
   "metadata": {},
   "source": [
    "Answer = self(it works as a pointer)"
   ]
  },
  {
   "cell_type": "markdown",
   "id": "ea83866f",
   "metadata": {},
   "source": [
    "# Q5.What is the purpose of the init method?"
   ]
  },
  {
   "cell_type": "markdown",
   "id": "06366cc2",
   "metadata": {},
   "source": [
    "Answer - init represents constructor in python, it initializes the state of the object."
   ]
  },
  {
   "cell_type": "markdown",
   "id": "0d4d78d8",
   "metadata": {},
   "source": [
    "# Q7. What is the process for creating a class?"
   ]
  },
  {
   "cell_type": "markdown",
   "id": "286f71c3",
   "metadata": {},
   "source": [
    "Answer = \n",
    "         Model real-world objects\n",
    "\n",
    "         Model abstract objects\n",
    "\n",
    "         Reduce complexity\n",
    "\n",
    "         Hide implementation details\n",
    "\n",
    "         Hide global data\n",
    "\n"
   ]
  },
  {
   "cell_type": "code",
   "execution_count": 12,
   "id": "0612f434",
   "metadata": {},
   "outputs": [
    {
     "name": "stdout",
     "output_type": "stream",
     "text": [
      "John\n",
      "36\n"
     ]
    }
   ],
   "source": [
    "class Person:\n",
    "    \n",
    "    def __init__(self, name, age):\n",
    "        self.name = name\n",
    "        self.age = age\n",
    "\n",
    "p1 = Person(\"John\", 36)\n",
    "\n",
    "print(p1.name)\n",
    "print(p1.age)"
   ]
  },
  {
   "cell_type": "markdown",
   "id": "3e2ef722",
   "metadata": {},
   "source": [
    "# Q8. How would you define the superclasses of a class?"
   ]
  },
  {
   "cell_type": "markdown",
   "id": "d150b0e4",
   "metadata": {},
   "source": [
    "Answer = A superclass is the class from which many subclasses can be created. The subclasses inherit the characteristics of          a superclass. The superclass is also known as the parent class or base class."
   ]
  },
  {
   "cell_type": "code",
   "execution_count": 14,
   "id": "cfd18032",
   "metadata": {},
   "outputs": [
    {
     "name": "stdout",
     "output_type": "stream",
     "text": [
      "class1\n",
      "class2\n",
      "class3\n"
     ]
    }
   ],
   "source": [
    "\n",
    "class class1:\n",
    "    def __init__(self):\n",
    "        print('class1')\n",
    "class class2(class1):\n",
    "    def __init__(self):\n",
    "        super().__init__()\n",
    "        print('class2')\n",
    "class class3(class2):\n",
    "    def __init__(self):\n",
    "        super().__init__()\n",
    "        print('class3')\n",
    "        \n",
    "obj=class3()"
   ]
  },
  {
   "cell_type": "code",
   "execution_count": null,
   "id": "87125c5f",
   "metadata": {},
   "outputs": [],
   "source": []
  }
 ],
 "metadata": {
  "kernelspec": {
   "display_name": "Python 3 (ipykernel)",
   "language": "python",
   "name": "python3"
  },
  "language_info": {
   "codemirror_mode": {
    "name": "ipython",
    "version": 3
   },
   "file_extension": ".py",
   "mimetype": "text/x-python",
   "name": "python",
   "nbconvert_exporter": "python",
   "pygments_lexer": "ipython3",
   "version": "3.9.7"
  }
 },
 "nbformat": 4,
 "nbformat_minor": 5
}
