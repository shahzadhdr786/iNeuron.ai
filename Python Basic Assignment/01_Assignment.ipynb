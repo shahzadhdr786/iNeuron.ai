{
 "cells": [
  {
   "cell_type": "code",
   "execution_count": null,
   "id": "87d8d33e",
   "metadata": {},
   "outputs": [],
   "source": [
    "1.In the below elements which of them are values or an expression? eg:- values can be integer or string and expressions will be mathematical operators.\n",
    "    \n",
    "    Answer:\n",
    "        \n",
    "         *      : this is expression.\n",
    "        \n",
    "        'hello': this is value.\n",
    "        \n",
    "        -87.8 : this is value.\n",
    "        \n",
    "         -    : this is expression.\n",
    "           \n",
    "         /    : this is expression.\n",
    "                \n",
    "         +    : this is expression.\n",
    "            \n",
    "         6    : this is value.  \n",
    "         "
   ]
  },
  {
   "cell_type": "code",
   "execution_count": null,
   "id": "7cfd940c",
   "metadata": {},
   "outputs": [],
   "source": [
    "2. What is the difference between string and variable?\n",
    "\n",
    "   Answer:\n",
    "        \n",
    "             Variable are nothing but reserved memory location to store values.\n",
    "             This means when you creat a variable you reserved some space in memoery\n",
    "            \n",
    "             A string is the values inside the quotes assigned to a string.\n",
    "\n",
    "            A variable can hold a string, but a string can't hold a variable."
   ]
  },
  {
   "cell_type": "code",
   "execution_count": null,
   "id": "ef9f3a4d",
   "metadata": {},
   "outputs": [],
   "source": [
    "3. Describe three different data types.\n",
    "\n",
    "  Answer:\n",
    "        \n",
    "        String : String data type in python are defined as a contigious set of characters represented in the quotation marks.\n",
    "                 Python allows for either pairs of single quotes,double quotes and triple quotes.\n",
    "                \n",
    "        Integer : Integer data type store negetive value,positive value,whole number whithout a decimal point number.\n",
    "            \n",
    "        floating point numbers : A positive or negative whole number with a decimal point.\n",
    "            \n",
    "    Example -:       "
   ]
  },
  {
   "cell_type": "code",
   "execution_count": 14,
   "id": "ec1e0d59",
   "metadata": {},
   "outputs": [
    {
     "data": {
      "text/plain": [
       "str"
      ]
     },
     "execution_count": 14,
     "metadata": {},
     "output_type": "execute_result"
    }
   ],
   "source": [
    "  #String example.\n",
    "    \n",
    "s = \"shahzad haidari\"\n",
    "type(s)\n"
   ]
  },
  {
   "cell_type": "code",
   "execution_count": 13,
   "id": "2d9178b0",
   "metadata": {},
   "outputs": [
    {
     "data": {
      "text/plain": [
       "int"
      ]
     },
     "execution_count": 13,
     "metadata": {},
     "output_type": "execute_result"
    }
   ],
   "source": [
    "#Integer example.\n",
    "a = 10\n",
    "type(a)"
   ]
  },
  {
   "cell_type": "code",
   "execution_count": 12,
   "id": "ac78029b",
   "metadata": {},
   "outputs": [
    {
     "data": {
      "text/plain": [
       "float"
      ]
     },
     "execution_count": 12,
     "metadata": {},
     "output_type": "execute_result"
    }
   ],
   "source": [
    "#floating point number example\n",
    "\n",
    "f = 13.44\n",
    "type(f)"
   ]
  },
  {
   "cell_type": "code",
   "execution_count": null,
   "id": "300630d7",
   "metadata": {},
   "outputs": [],
   "source": [
    "4. What is an expression made up of? What do all expressions do?\n",
    " \n",
    "    Answer:     \n",
    "\n",
    "    An expression is anything that evaluates to a value. Or that could be on the right-hand side of an assignment:\n",
    "        "
   ]
  },
  {
   "cell_type": "code",
   "execution_count": 11,
   "id": "aa2a5c8e",
   "metadata": {},
   "outputs": [
    {
     "name": "stdout",
     "output_type": "stream",
     "text": [
      "25\n"
     ]
    }
   ],
   "source": [
    "\n",
    "# variables\n",
    "z = 10\n",
    "x = 15\n",
    "\n",
    "# expression\n",
    "c = z + x\n",
    "print(c)"
   ]
  },
  {
   "cell_type": "code",
   "execution_count": null,
   "id": "59bcac66",
   "metadata": {},
   "outputs": [],
   "source": [
    "5. This assignment statements, like spam = 10. What is the difference between an expression and a statement?\n",
    "\n",
    "   Answer:\n",
    "        \n",
    "    Expession : An expression evaluates to a value.\n",
    "        \n",
    "    Statement : A statement executes something.\n",
    "        \n",
    "    spam = 10 , value 10 in assigned to spam, and now spam will have value 10. \n",
    "    \n",
    "    But in expression a = b+c, the value of a depends on the value of b and c.\n"
   ]
  },
  {
   "cell_type": "code",
   "execution_count": null,
   "id": "904b715c",
   "metadata": {},
   "outputs": [],
   "source": [
    "6. After running the following code, what does the variable bacon contain?\n",
    "bacon = 22\n",
    "bacon + 1\n",
    "\n",
    "  Answer:\n",
    "        after execution the statement answer is 23.\n",
    "        \n"
   ]
  },
  {
   "cell_type": "code",
   "execution_count": 10,
   "id": "88a882dd",
   "metadata": {},
   "outputs": [
    {
     "name": "stdout",
     "output_type": "stream",
     "text": [
      "23\n"
     ]
    }
   ],
   "source": [
    "bacon = 22\n",
    "j = bacon + 1\n",
    "print(j)\n",
    "\n"
   ]
  },
  {
   "cell_type": "code",
   "execution_count": null,
   "id": "07559085",
   "metadata": {},
   "outputs": [],
   "source": [
    "7. What should the values of the following two terms be?\n",
    "'spam' + 'spamspam'\n",
    "'spam' * 3\n",
    " \n",
    "    Answer : Both expressions are the same.\n",
    "             "
   ]
  },
  {
   "cell_type": "code",
   "execution_count": 8,
   "id": "6dae1b7d",
   "metadata": {},
   "outputs": [
    {
     "data": {
      "text/plain": [
       "'spamspamspam'"
      ]
     },
     "execution_count": 8,
     "metadata": {},
     "output_type": "execute_result"
    }
   ],
   "source": [
    "'spam' + 'spamspam'"
   ]
  },
  {
   "cell_type": "code",
   "execution_count": 4,
   "id": "65e5c25e",
   "metadata": {},
   "outputs": [
    {
     "data": {
      "text/plain": [
       "'spamspamspam'"
      ]
     },
     "execution_count": 4,
     "metadata": {},
     "output_type": "execute_result"
    }
   ],
   "source": [
    "'spam' * 3"
   ]
  },
  {
   "cell_type": "code",
   "execution_count": null,
   "id": "536e6c07",
   "metadata": {},
   "outputs": [],
   "source": [
    "8. Why is eggs a valid variable name while 100 is invalid?\n",
    "\n",
    "  Answer:\n",
    "        \n",
    "        Because variable name is always start from string."
   ]
  },
  {
   "cell_type": "code",
   "execution_count": 5,
   "id": "a34a2ba1",
   "metadata": {},
   "outputs": [
    {
     "ename": "SyntaxError",
     "evalue": "cannot assign to literal (Temp/ipykernel_8328/1517783406.py, line 1)",
     "output_type": "error",
     "traceback": [
      "\u001b[1;36m  File \u001b[1;32m\"C:\\Users\\pc\\AppData\\Local\\Temp/ipykernel_8328/1517783406.py\"\u001b[1;36m, line \u001b[1;32m1\u001b[0m\n\u001b[1;33m    100 = \"shahzad\"\u001b[0m\n\u001b[1;37m    ^\u001b[0m\n\u001b[1;31mSyntaxError\u001b[0m\u001b[1;31m:\u001b[0m cannot assign to literal\n"
     ]
    }
   ],
   "source": [
    "100 = \"shahzad\""
   ]
  },
  {
   "cell_type": "code",
   "execution_count": 7,
   "id": "fc1a7f3f",
   "metadata": {},
   "outputs": [],
   "source": [
    "#Example:\n",
    "\n",
    "eggs = 100"
   ]
  },
  {
   "cell_type": "code",
   "execution_count": null,
   "id": "9ac6257f",
   "metadata": {},
   "outputs": [],
   "source": [
    "9. What three functions can be used to get the integer, floating-point number, or string version of a value?\n",
    "\n",
    " Answer:\n",
    "        The three function will be:\n",
    "            \n",
    "            integer : int()\n",
    "            floating-point number : float()\n",
    "            string : str()\n",
    "                \n",
    "            String will convert the values to integer, float or string versions of the values passed to them.\n",
    "\n",
    "                "
   ]
  },
  {
   "cell_type": "code",
   "execution_count": null,
   "id": "9dbb8598",
   "metadata": {},
   "outputs": [],
   "source": [
    "10. Why does this expression cause an error? How can you fix it?\n",
    "'I have eaten ' + 99 + ' burritos.'\n",
    "\n",
    "  Answer :\n",
    "        We need to covert an integer value into a string value, Because we can't concatinate a string value into a integer value."
   ]
  },
  {
   "cell_type": "code",
   "execution_count": null,
   "id": "dea629c3",
   "metadata": {},
   "outputs": [],
   "source": []
  }
 ],
 "metadata": {
  "kernelspec": {
   "display_name": "Python 3 (ipykernel)",
   "language": "python",
   "name": "python3"
  },
  "language_info": {
   "codemirror_mode": {
    "name": "ipython",
    "version": 3
   },
   "file_extension": ".py",
   "mimetype": "text/x-python",
   "name": "python",
   "nbconvert_exporter": "python",
   "pygments_lexer": "ipython3",
   "version": "3.9.7"
  }
 },
 "nbformat": 4,
 "nbformat_minor": 5
}
