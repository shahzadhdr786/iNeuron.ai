{
 "cells": [
  {
   "cell_type": "markdown",
   "id": "8f5d2196",
   "metadata": {},
   "source": [
    "# 1. What are escape characters, and how do you use them?"
   ]
  },
  {
   "cell_type": "markdown",
   "id": "4767d75e",
   "metadata": {},
   "source": [
    "Answer -  Escape sequences allow you to include special characters in strings. To do this, simply add a backslash before the character you want to escape."
   ]
  },
  {
   "cell_type": "code",
   "execution_count": 1,
   "id": "6fa4a22f",
   "metadata": {},
   "outputs": [
    {
     "name": "stdout",
     "output_type": "stream",
     "text": [
      "what's your name\n",
      "what's your name\n",
      "Hello\n",
      "iNeuron \n"
     ]
    }
   ],
   "source": [
    "exp1 = \"what's your name\"\n",
    "exp2 ='what\\'s your name' \n",
    "exp3 = \"Hello\\niNeuron \"\n",
    "print(exp1)\n",
    "print(exp2)\n",
    "print(exp3)"
   ]
  },
  {
   "cell_type": "markdown",
   "id": "0f13ba74",
   "metadata": {},
   "source": [
    "# 2. What do the escape characters n and t stand for?"
   ]
  },
  {
   "cell_type": "markdown",
   "id": "2d9a695c",
   "metadata": {},
   "source": [
    "Answer = \"\\t\" is a tab, \"\\n\" is a newline"
   ]
  },
  {
   "cell_type": "code",
   "execution_count": 4,
   "id": "d829b825",
   "metadata": {},
   "outputs": [
    {
     "name": "stdout",
     "output_type": "stream",
     "text": [
      "Shahazad\tHaidari\n",
      "Shahzad\n",
      "Haidari\n"
     ]
    }
   ],
   "source": [
    "print(\"Shahazad\\tHaidari\")\n",
    "print(\"Shahzad\\nHaidari\")"
   ]
  },
  {
   "cell_type": "markdown",
   "id": "98e47b79",
   "metadata": {},
   "source": [
    "# 3. What is the way to include backslash characters in a string?"
   ]
  },
  {
   "cell_type": "markdown",
   "id": "af728314",
   "metadata": {},
   "source": [
    " Answer = Use double backslash(\\\\) to include a backslash in string."
   ]
  },
  {
   "cell_type": "code",
   "execution_count": 5,
   "id": "852234a6",
   "metadata": {},
   "outputs": [
    {
     "name": "stdout",
     "output_type": "stream",
     "text": [
      "Shahzad\\haidari\n"
     ]
    }
   ],
   "source": [
    "print(\"Shahzad\\\\haidari\")"
   ]
  },
  {
   "cell_type": "markdown",
   "id": "db110d95",
   "metadata": {},
   "source": [
    "# 4. The string \"Howl's Moving Castle\" is a correct value. Why isn't the single quote character in the word Howl's not escaped a problem?"
   ]
  },
  {
   "cell_type": "markdown",
   "id": "e07a3908",
   "metadata": {},
   "source": [
    "Answer = The single quote in Howl's is fine because you've used double quotes to mark the beginning and end of the string. \n",
    "         like wise we can use double quotes in with single quotes."
   ]
  },
  {
   "cell_type": "code",
   "execution_count": 7,
   "id": "5ff06a24",
   "metadata": {},
   "outputs": [
    {
     "name": "stdout",
     "output_type": "stream",
     "text": [
      "Howl's Moving Castle\n"
     ]
    }
   ],
   "source": [
    "print(\"Howl's Moving Castle\")"
   ]
  },
  {
   "cell_type": "code",
   "execution_count": 11,
   "id": "9d7c938b",
   "metadata": {},
   "outputs": [
    {
     "name": "stdout",
     "output_type": "stream",
     "text": [
      "It\"s me haidari\n"
     ]
    }
   ],
   "source": [
    "# like wise we can use double quote in side single quote\n",
    "print('It\"s me haidari')"
   ]
  },
  {
   "cell_type": "markdown",
   "id": "79079078",
   "metadata": {},
   "source": [
    "# 5. How do you write a string of newlines if you don't want to use the n character?"
   ]
  },
  {
   "cell_type": "markdown",
   "id": "a6fdadc3",
   "metadata": {},
   "source": [
    "Answer - we can use the parameter end ='\\n' in print function"
   ]
  },
  {
   "cell_type": "code",
   "execution_count": 19,
   "id": "d513f926",
   "metadata": {},
   "outputs": [
    {
     "name": "stdout",
     "output_type": "stream",
     "text": [
      "printing something in multiple lines\n",
      "newline\n"
     ]
    }
   ],
   "source": [
    "print(\"printing something in multiple lines\",end = '\\n')\n",
    "print(\"newline\")"
   ]
  },
  {
   "cell_type": "markdown",
   "id": "3c84c993",
   "metadata": {},
   "source": [
    "# 6. What are the values of the given expressions?\n",
    "# 'Hello, world!&#39;[1]\n",
    "# 'Hello, world!&#39;[0:5]\n",
    "# 'Hello, world!&#39;[:5]\n",
    "# 'Hello, world!&#39;[3:]"
   ]
  },
  {
   "cell_type": "code",
   "execution_count": 32,
   "id": "3d6fc65f",
   "metadata": {},
   "outputs": [
    {
     "data": {
      "text/plain": [
       "'e'"
      ]
     },
     "execution_count": 32,
     "metadata": {},
     "output_type": "execute_result"
    }
   ],
   "source": [
    "a ='Hello, world!'\n",
    "a[1]"
   ]
  },
  {
   "cell_type": "code",
   "execution_count": null,
   "id": "f201d8e9",
   "metadata": {},
   "outputs": [],
   "source": [
    "# a =\"Hello, world!'\n",
    "a[0:5]"
   ]
  },
  {
   "cell_type": "code",
   "execution_count": 34,
   "id": "18ee718a",
   "metadata": {},
   "outputs": [
    {
     "data": {
      "text/plain": [
       "'Hello'"
      ]
     },
     "execution_count": 34,
     "metadata": {},
     "output_type": "execute_result"
    }
   ],
   "source": [
    "a ='Hello, world!'\n",
    "a[0:5]"
   ]
  },
  {
   "cell_type": "code",
   "execution_count": 35,
   "id": "6ed5b904",
   "metadata": {},
   "outputs": [
    {
     "data": {
      "text/plain": [
       "'Hello'"
      ]
     },
     "execution_count": 35,
     "metadata": {},
     "output_type": "execute_result"
    }
   ],
   "source": [
    "a ='Hello, world!'\n",
    "a[:5]"
   ]
  },
  {
   "cell_type": "code",
   "execution_count": 36,
   "id": "cea8324e",
   "metadata": {},
   "outputs": [
    {
     "data": {
      "text/plain": [
       "'lo, world!'"
      ]
     },
     "execution_count": 36,
     "metadata": {},
     "output_type": "execute_result"
    }
   ],
   "source": [
    "a ='Hello, world!'\n",
    "a[3:]"
   ]
  },
  {
   "cell_type": "markdown",
   "id": "cf644705",
   "metadata": {},
   "source": [
    "# 7. What are the values of the following expressions?\n",
    "# Hello&#39;.upper()\n",
    "# Hello&#39;.upper().isupper()\n",
    "# Hello&#39;.upper().lower()"
   ]
  },
  {
   "cell_type": "code",
   "execution_count": 37,
   "id": "0086dbd7",
   "metadata": {},
   "outputs": [
    {
     "data": {
      "text/plain": [
       "'HELLO'"
      ]
     },
     "execution_count": 37,
     "metadata": {},
     "output_type": "execute_result"
    }
   ],
   "source": [
    "\"hello\".upper()"
   ]
  },
  {
   "cell_type": "code",
   "execution_count": 38,
   "id": "d7c9708a",
   "metadata": {},
   "outputs": [
    {
     "data": {
      "text/plain": [
       "True"
      ]
     },
     "execution_count": 38,
     "metadata": {},
     "output_type": "execute_result"
    }
   ],
   "source": [
    "'Hello'.upper().isupper()"
   ]
  },
  {
   "cell_type": "code",
   "execution_count": 39,
   "id": "6f010507",
   "metadata": {},
   "outputs": [
    {
     "data": {
      "text/plain": [
       "'hello'"
      ]
     },
     "execution_count": 39,
     "metadata": {},
     "output_type": "execute_result"
    }
   ],
   "source": [
    "'Hello'.upper().lower()"
   ]
  },
  {
   "cell_type": "markdown",
   "id": "7dccb153",
   "metadata": {},
   "source": [
    "# 8. What are the values of the following expressions?\n",
    "# 'Remember, remember, the fifth of July.'.split() -> splits with space and returns list of words\n",
    " #  '-'.join('There can only one.'.split()) splits with space and join with '_'"
   ]
  },
  {
   "cell_type": "code",
   "execution_count": 40,
   "id": "30c74f76",
   "metadata": {},
   "outputs": [
    {
     "data": {
      "text/plain": [
       "['Remember,', 'remember,', 'the', 'fifth', 'of', 'July.']"
      ]
     },
     "execution_count": 40,
     "metadata": {},
     "output_type": "execute_result"
    }
   ],
   "source": [
    "'Remember, remember, the fifth of July.'.split()"
   ]
  },
  {
   "cell_type": "code",
   "execution_count": 41,
   "id": "3c550e26",
   "metadata": {},
   "outputs": [
    {
     "data": {
      "text/plain": [
       "'There-can-only-one.'"
      ]
     },
     "execution_count": 41,
     "metadata": {},
     "output_type": "execute_result"
    }
   ],
   "source": [
    "'-'.join('There can only one.'.split())"
   ]
  },
  {
   "cell_type": "markdown",
   "id": "350ffa07",
   "metadata": {},
   "source": [
    "# 9. What are the methods for right-justifying, left-justifying, and centering a string?"
   ]
  },
  {
   "cell_type": "markdown",
   "id": "4e39b0d7",
   "metadata": {},
   "source": [
    "Answer - The following methods are used for justifying strings\n",
    "         ljust()\n",
    "         rjust()\n",
    "         center()"
   ]
  },
  {
   "cell_type": "code",
   "execution_count": 42,
   "id": "68bf73c0",
   "metadata": {},
   "outputs": [
    {
     "data": {
      "text/plain": [
       "'Hello-----'"
      ]
     },
     "execution_count": 42,
     "metadata": {},
     "output_type": "execute_result"
    }
   ],
   "source": [
    "# left justified\n",
    "str =\"Hello\"\n",
    "str.ljust(10,\"-\")"
   ]
  },
  {
   "cell_type": "code",
   "execution_count": 43,
   "id": "5769fa82",
   "metadata": {},
   "outputs": [
    {
     "data": {
      "text/plain": [
       "'-----Hello'"
      ]
     },
     "execution_count": 43,
     "metadata": {},
     "output_type": "execute_result"
    }
   ],
   "source": [
    "# right justified\n",
    "str =\"Hello\"\n",
    "str.rjust(10,\"-\")"
   ]
  },
  {
   "cell_type": "code",
   "execution_count": 46,
   "id": "985d20cd",
   "metadata": {},
   "outputs": [
    {
     "data": {
      "text/plain": [
       "'---Hello---'"
      ]
     },
     "execution_count": 46,
     "metadata": {},
     "output_type": "execute_result"
    }
   ],
   "source": [
    "# center justified\n",
    "str =\"Hello\"\n",
    "str.center(11,\"-\")"
   ]
  },
  {
   "cell_type": "markdown",
   "id": "00b4dd8b",
   "metadata": {},
   "source": [
    "# 10. What is the best way to remove whitespace characters from the start or end?\n",
    "lstrip() -> removes white spaces from left of the string\n",
    "\n",
    "rstrip() -> removes whitespaces from right of the string"
   ]
  },
  {
   "cell_type": "code",
   "execution_count": 47,
   "id": "1233c2cf",
   "metadata": {},
   "outputs": [
    {
     "data": {
      "text/plain": [
       "'shahzad haidari  '"
      ]
     },
     "execution_count": 47,
     "metadata": {},
     "output_type": "execute_result"
    }
   ],
   "source": [
    "str =\"  shahzad haidari  \"\n",
    "str.lstrip()"
   ]
  },
  {
   "cell_type": "code",
   "execution_count": 48,
   "id": "d5ef3862",
   "metadata": {},
   "outputs": [
    {
     "data": {
      "text/plain": [
       "'  shahzad haidari'"
      ]
     },
     "execution_count": 48,
     "metadata": {},
     "output_type": "execute_result"
    }
   ],
   "source": [
    "str =\"  shahzad haidari  \"\n",
    "str.rstrip()"
   ]
  },
  {
   "cell_type": "code",
   "execution_count": null,
   "id": "72a3a72d",
   "metadata": {},
   "outputs": [],
   "source": []
  }
 ],
 "metadata": {
  "kernelspec": {
   "display_name": "Python 3 (ipykernel)",
   "language": "python",
   "name": "python3"
  },
  "language_info": {
   "codemirror_mode": {
    "name": "ipython",
    "version": 3
   },
   "file_extension": ".py",
   "mimetype": "text/x-python",
   "name": "python",
   "nbconvert_exporter": "python",
   "pygments_lexer": "ipython3",
   "version": "3.9.7"
  }
 },
 "nbformat": 4,
 "nbformat_minor": 5
}
