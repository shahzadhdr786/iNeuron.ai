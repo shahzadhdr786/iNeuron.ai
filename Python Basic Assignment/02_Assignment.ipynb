{
 "cells": [
  {
   "cell_type": "code",
   "execution_count": null,
   "id": "f0cf7715",
   "metadata": {},
   "outputs": [],
   "source": [
    "1.What are the two values of the Boolean data type? How do you write them?\n",
    "\n",
    "   Ans - The two boolean data type are.\n",
    "          1.True\n",
    "          2.False \n",
    "        "
   ]
  },
  {
   "cell_type": "code",
   "execution_count": null,
   "id": "08280b01",
   "metadata": {},
   "outputs": [],
   "source": [
    "2. What are the three different types of Boolean operators?\n",
    "\n",
    "   Ans - The three data type of boolen operators are.  \n",
    "          1.AND Operator = True,if both are true.\n",
    "          2.OR Operator  =  True, if at least one is true.\n",
    "          3.NOT Operator = True, only if false. "
   ]
  },
  {
   "cell_type": "code",
   "execution_count": null,
   "id": "cf732822",
   "metadata": {},
   "outputs": [],
   "source": [
    "3. Make a list of each Boolean operator's truth tables (i.e. every possible combination of Boolean values for the operator and what it evaluate ).\n"
   ]
  },
  {
   "cell_type": "code",
   "execution_count": 1,
   "id": "ba9f7a3f",
   "metadata": {},
   "outputs": [
    {
     "name": "stdout",
     "output_type": "stream",
     "text": [
      "\n",
      " AND operator truth table\n",
      " A      B    AandB\n",
      "[True, True, True]\n",
      "[True, False, False]\n",
      "[False, False, False]\n",
      "\n",
      " OR operator truth table \n",
      "A       B     AorB\n",
      "[True, True, True]\n",
      "[False, True, True]\n",
      "[False, False, False]\n",
      "\n",
      " NOT Operator truth table\n",
      "  A     notA\n",
      "[True, False]\n",
      "[False, True]\n"
     ]
    }
   ],
   "source": [
    "  #3. Answer\n",
    "T = True\n",
    "F = False\n",
    "AND_list = [[T,T,T] , [T,F,F] , [F,F,F]]\n",
    "print(\"\\n AND operator truth table\")\n",
    "print(\" A      B    AandB\")\n",
    "for i in AND_list:\n",
    "    print(i)\n",
    "    \n",
    "OR_list = [[T,T,T], [F,T,T],[F,F,F]]\n",
    "print(\"\\n OR operator truth table \")\n",
    "print(\"A       B     AorB\")\n",
    "for i in OR_list :\n",
    "    print(i)\n",
    "    \n",
    "NOT_list = [[T ,F] , [F , T]]    \n",
    "print(\"\\n NOT Operator truth table\")\n",
    "print(\"  A     notA\")\n",
    "for i in NOT_list:\n",
    "    print(i)"
   ]
  },
  {
   "cell_type": "code",
   "execution_count": null,
   "id": "8d931869",
   "metadata": {},
   "outputs": [],
   "source": [
    "4. What are the values of the following expressions?\n",
    "(5 > 4) and (3 == 5) :  True and False => False\n",
    "not (5 > 4)          :  not True => False\n",
    "(5 > 4) or (3 == 5)  :  True or False => True\n",
    "not ((5 > 4) or (3 == 5))  : not(True or False) = not(True) => False\n",
    "(True and True) and (True == False) : True and False  => False\n",
    "(not False) or (not True) : True or False => True\n"
   ]
  },
  {
   "cell_type": "code",
   "execution_count": 2,
   "id": "20a38fa3",
   "metadata": {},
   "outputs": [
    {
     "data": {
      "text/plain": [
       "False"
      ]
     },
     "execution_count": 2,
     "metadata": {},
     "output_type": "execute_result"
    }
   ],
   "source": [
    "(5 > 4) and (3 == 5)"
   ]
  },
  {
   "cell_type": "code",
   "execution_count": 3,
   "id": "8c35a0d6",
   "metadata": {},
   "outputs": [
    {
     "data": {
      "text/plain": [
       "False"
      ]
     },
     "execution_count": 3,
     "metadata": {},
     "output_type": "execute_result"
    }
   ],
   "source": [
    "not (5 > 4)"
   ]
  },
  {
   "cell_type": "code",
   "execution_count": 4,
   "id": "ef2a10ce",
   "metadata": {},
   "outputs": [
    {
     "data": {
      "text/plain": [
       "True"
      ]
     },
     "execution_count": 4,
     "metadata": {},
     "output_type": "execute_result"
    }
   ],
   "source": [
    "(5 > 4) or (3 == 5)"
   ]
  },
  {
   "cell_type": "code",
   "execution_count": 5,
   "id": "f55c2f3d",
   "metadata": {},
   "outputs": [
    {
     "data": {
      "text/plain": [
       "False"
      ]
     },
     "execution_count": 5,
     "metadata": {},
     "output_type": "execute_result"
    }
   ],
   "source": [
    "not ((5 > 4) or (3 == 5))"
   ]
  },
  {
   "cell_type": "code",
   "execution_count": 3,
   "id": "c11203ab",
   "metadata": {},
   "outputs": [
    {
     "data": {
      "text/plain": [
       "False"
      ]
     },
     "execution_count": 3,
     "metadata": {},
     "output_type": "execute_result"
    }
   ],
   "source": [
    "(True and True) and (True == False) "
   ]
  },
  {
   "cell_type": "code",
   "execution_count": 4,
   "id": "054de2a5",
   "metadata": {},
   "outputs": [
    {
     "data": {
      "text/plain": [
       "True"
      ]
     },
     "execution_count": 4,
     "metadata": {},
     "output_type": "execute_result"
    }
   ],
   "source": [
    "(not False) or (not True)"
   ]
  },
  {
   "cell_type": "code",
   "execution_count": null,
   "id": "d23df130",
   "metadata": {},
   "outputs": [],
   "source": [
    "5. What are the six comparison operators?\n",
    "\n",
    "   Answer-\n",
    "    \n",
    "            Six comparision operator are.\n",
    "    \n",
    "            1.==\n",
    "            2.<=\n",
    "            3.>=\n",
    "            4.<\n",
    "            5.>\n",
    "            6.!="
   ]
  },
  {
   "cell_type": "code",
   "execution_count": null,
   "id": "4ae7f1a6",
   "metadata": {},
   "outputs": [],
   "source": [
    "6. How do you tell the difference between the equal to and assignment operators?Describe a condition and when you would use one.\n",
    "\n",
    "    Answer- Assignment Operator(=) : An assignment operator is the operator used to assign a new value to a variable.\n",
    "            example : a = 10 , b = 20.\n",
    "            Assign value from right side operands to left side operand.\n",
    "            \n",
    "            \n",
    "            Equal to Operator(==) : If the values of two operands are equal then the condition becomes true.\n",
    "            \n",
    "            Example-:"
   ]
  },
  {
   "cell_type": "code",
   "execution_count": 6,
   "id": "67801ade",
   "metadata": {},
   "outputs": [
    {
     "name": "stdout",
     "output_type": "stream",
     "text": [
      "False\n"
     ]
    }
   ],
   "source": [
    "#6.Equal operator example\n",
    "x = 10\n",
    "y = 20\n",
    "\n",
    "if (x==y):\n",
    "    print(True)\n",
    "else:\n",
    "    print(False)"
   ]
  },
  {
   "cell_type": "code",
   "execution_count": null,
   "id": "fadff8fe",
   "metadata": {},
   "outputs": [],
   "source": [
    "7. Identify the three blocks in this code:\n",
    "    spam = 0   \n",
    "\n",
    "if spam == 10:\n",
    "    print(\"eggs\")  \n",
    "\n",
    "if spam > 5:\n",
    "    print(\"bacon\")\n",
    "else:\n",
    "    print(\"ham\")\n",
    "    print(\"spam\")\n",
    "    print(\"spam\")"
   ]
  },
  {
   "cell_type": "code",
   "execution_count": null,
   "id": "149aab06",
   "metadata": {},
   "outputs": [],
   "source": [
    "# 7.Answer of\n",
    "spam = 0  #First block\n",
    "\n",
    "if spam == 10:  #Second block\n",
    "    print(\"eggs\")  \n",
    "\n",
    "if spam > 5:    #Third block\n",
    "    print(\"bacon\")\n",
    "else:\n",
    "    print(\"ham\")\n",
    "    print(\"spam\")\n",
    "    print(\"spam\")"
   ]
  },
  {
   "cell_type": "code",
   "execution_count": null,
   "id": "d0ba2e59",
   "metadata": {},
   "outputs": [],
   "source": [
    "8. Write code that prints Hello if 1 is stored in spam, prints Howdy if 2 is stored in spam, and prints Greetings! if anything else is stored in spam."
   ]
  },
  {
   "cell_type": "code",
   "execution_count": 7,
   "id": "89931ce3",
   "metadata": {},
   "outputs": [
    {
     "name": "stdout",
     "output_type": "stream",
     "text": [
      "1\n",
      "Hello\n"
     ]
    }
   ],
   "source": [
    "spam = int(input())\n",
    "if spam == 1:\n",
    "    print(\"Hello\")\n",
    "elif spam == 2:\n",
    "    print(\"Howdy\")\n",
    "        \n",
    "else:\n",
    "    print(\"Greetings!\")\n",
    "\n"
   ]
  },
  {
   "cell_type": "code",
   "execution_count": null,
   "id": "ce7256e4",
   "metadata": {},
   "outputs": [],
   "source": [
    "9.If your programme is stuck in an endless loop, what keys you’ll press?\n",
    " Answer -\n",
    "          Press CTRL-C to stop a program stuck in an infinite loop"
   ]
  },
  {
   "cell_type": "code",
   "execution_count": null,
   "id": "825d5645",
   "metadata": {},
   "outputs": [],
   "source": [
    "10. How can you tell the difference between break and continue?\n",
    "\n",
    "  Answer - \n",
    "             Break Statement : Break statement is used to come out of the loop when encountered\n",
    "             Its instruct the program to exit the loop now.\n",
    "         \n",
    "         \n",
    "             Continue statement : Continue is used to stop the current iteration of loop and continue    \n",
    "            with the next one its instruct the program to skip the iteration.\n",
    "        \n",
    "        "
   ]
  },
  {
   "cell_type": "code",
   "execution_count": 6,
   "id": "2fac14fc",
   "metadata": {},
   "outputs": [
    {
     "name": "stdout",
     "output_type": "stream",
     "text": [
      "s\n",
      "h\n",
      "a\n",
      "h\n",
      "z\n"
     ]
    }
   ],
   "source": [
    "#Break statement program example.\n",
    "a = \"shahzad\"\n",
    "for i in a:\n",
    "    print(i)\n",
    "    if i == \"z\" :\n",
    "        break"
   ]
  },
  {
   "cell_type": "code",
   "execution_count": 7,
   "id": "6a9e285d",
   "metadata": {},
   "outputs": [
    {
     "name": "stdout",
     "output_type": "stream",
     "text": [
      "0\n",
      "1\n",
      "3\n"
     ]
    }
   ],
   "source": [
    "#continue statement program example.\n",
    "\n",
    "for i in range(4):\n",
    "    if i == 2:\n",
    "        continue\n",
    "    print(i)\n",
    "           "
   ]
  },
  {
   "cell_type": "code",
   "execution_count": null,
   "id": "0048ba9f",
   "metadata": {},
   "outputs": [],
   "source": [
    "11. In a for loop, what is the difference between range(10), range(0, 10), and range(0, 10, 1 )? \n",
    "\n",
    "  Answer - They are very similar to each other because \n",
    "            range(10) by default takes 0 as a starting value and 1 by default takes as a increment value.\n",
    "            \n",
    "            range(0,10) : Here we define the value of staring point and 1 by default takes a increment value.\n",
    "                \n",
    "            range(0,10,1) : Here the programmer define his own value staring value and increment value"
   ]
  },
  {
   "cell_type": "code",
   "execution_count": 8,
   "id": "133947fc",
   "metadata": {},
   "outputs": [
    {
     "name": "stdout",
     "output_type": "stream",
     "text": [
      "0\n",
      "1\n",
      "2\n",
      "3\n",
      "4\n",
      "5\n",
      "6\n",
      "7\n",
      "8\n",
      "9\n"
     ]
    }
   ],
   "source": [
    "for i in range (10):\n",
    "    print(i)"
   ]
  },
  {
   "cell_type": "code",
   "execution_count": 9,
   "id": "f7cf8ceb",
   "metadata": {},
   "outputs": [
    {
     "name": "stdout",
     "output_type": "stream",
     "text": [
      "0\n",
      "1\n",
      "2\n",
      "3\n",
      "4\n",
      "5\n",
      "6\n",
      "7\n",
      "8\n",
      "9\n"
     ]
    }
   ],
   "source": [
    "for i in range(0,10):\n",
    "    print(i)"
   ]
  },
  {
   "cell_type": "code",
   "execution_count": 10,
   "id": "21db8fae",
   "metadata": {},
   "outputs": [
    {
     "name": "stdout",
     "output_type": "stream",
     "text": [
      "0\n",
      "1\n",
      "2\n",
      "3\n",
      "4\n",
      "5\n",
      "6\n",
      "7\n",
      "8\n",
      "9\n"
     ]
    }
   ],
   "source": [
    "for i in range(0,10,1):\n",
    "    print(i)"
   ]
  },
  {
   "cell_type": "code",
   "execution_count": null,
   "id": "e1812af0",
   "metadata": {},
   "outputs": [],
   "source": [
    "12. Write a short program that prints the numbers 1 to 10 using a for loop. Then write an equivalent program that prints the numbers 1 to 10 using a while loop.\n"
   ]
  },
  {
   "cell_type": "code",
   "execution_count": 11,
   "id": "9ab66b21",
   "metadata": {},
   "outputs": [
    {
     "name": "stdout",
     "output_type": "stream",
     "text": [
      "1\n",
      "2\n",
      "3\n",
      "4\n",
      "5\n",
      "6\n",
      "7\n",
      "8\n",
      "9\n",
      "10\n"
     ]
    }
   ],
   "source": [
    "# 12.Answer using for loop printing 1 to 10 numbers\n",
    "for i in range(1,11):\n",
    "        print(i)"
   ]
  },
  {
   "cell_type": "code",
   "execution_count": 12,
   "id": "d8da1687",
   "metadata": {},
   "outputs": [
    {
     "name": "stdout",
     "output_type": "stream",
     "text": [
      "1\n",
      "2\n",
      "3\n",
      "4\n",
      "5\n",
      "6\n",
      "7\n",
      "8\n",
      "9\n",
      "10\n"
     ]
    }
   ],
   "source": [
    "# using while loop printing 1 to 10 numbers\n",
    "a = 1\n",
    "while a < 11:\n",
    "    print(a)\n",
    "    a = a+1"
   ]
  },
  {
   "cell_type": "code",
   "execution_count": null,
   "id": "b0f94c93",
   "metadata": {},
   "outputs": [],
   "source": [
    "13. If you had a function named bacon() inside a module named spam, how would you call it after importing spam?\n",
    "\n",
    "  Answer : import spam\n",
    "                a = spam.bacon()"
   ]
  },
  {
   "cell_type": "code",
   "execution_count": null,
   "id": "9c5c1665",
   "metadata": {},
   "outputs": [],
   "source": []
  }
 ],
 "metadata": {
  "kernelspec": {
   "display_name": "Python 3 (ipykernel)",
   "language": "python",
   "name": "python3"
  },
  "language_info": {
   "codemirror_mode": {
    "name": "ipython",
    "version": 3
   },
   "file_extension": ".py",
   "mimetype": "text/x-python",
   "name": "python",
   "nbconvert_exporter": "python",
   "pygments_lexer": "ipython3",
   "version": "3.9.7"
  }
 },
 "nbformat": 4,
 "nbformat_minor": 5
}
