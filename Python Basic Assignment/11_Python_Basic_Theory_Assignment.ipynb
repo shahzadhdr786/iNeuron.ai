{
 "cells": [
  {
   "cell_type": "markdown",
   "id": "7ef44c54",
   "metadata": {},
   "source": [
    "# 1. Create an assert statement that throws an AssertionError if the variable spam is a negative integer"
   ]
  },
  {
   "cell_type": "markdown",
   "id": "fda0799e",
   "metadata": {},
   "source": [
    "Answer=assert spam>0, \"Negative not allowed!\""
   ]
  },
  {
   "cell_type": "markdown",
   "id": "a8c2ddfa",
   "metadata": {},
   "source": [
    "# 2.Write an assert statement that triggers an AssertionError if the variables eggs and bacon contain strings that are the same as each other, even if their cases are different (that is, 'hello' and 'hello' are considered the same, and 'goodbye' and 'GOODbye' are also considered the same)."
   ]
  },
  {
   "cell_type": "markdown",
   "id": "586314c5",
   "metadata": {},
   "source": [
    "Answer = assert eggs.lower()!=bacon.lower(), \"eggs and bacon shouldn't be same!\""
   ]
  },
  {
   "cell_type": "markdown",
   "id": "b9a5fbf5",
   "metadata": {},
   "source": [
    "# 3.Create an assert statement that throws an AssertionError every time."
   ]
  },
  {
   "cell_type": "markdown",
   "id": "1fb6fcd3",
   "metadata": {},
   "source": [
    "Answer=assert False "
   ]
  },
  {
   "cell_type": "markdown",
   "id": "efad17c1",
   "metadata": {},
   "source": [
    "# 4.What are the two lines that must be present in your software in order to call logging.debug()?"
   ]
  },
  {
   "cell_type": "markdown",
   "id": "87d8a23f",
   "metadata": {},
   "source": [
    "Answer = import logging\n",
    "\n",
    "        logging.basicConfig(fiename, level=logging.DEBUG)"
   ]
  },
  {
   "cell_type": "markdown",
   "id": "52719a4a",
   "metadata": {},
   "source": [
    "# 6.What are the five levels of logging?"
   ]
  },
  {
   "cell_type": "markdown",
   "id": "286b900a",
   "metadata": {},
   "source": [
    "Answer=logging.error()\n",
    "\n",
    "       logging.warning()\n",
    "\n",
    "       logging.info()\n",
    "\n",
    "       logging.critical()\n",
    "\n",
    "      logging.debug()"
   ]
  },
  {
   "cell_type": "markdown",
   "id": "7a160f94",
   "metadata": {},
   "source": [
    "# 7.What line of code would you add to your software to disable all logging messages?"
   ]
  },
  {
   "cell_type": "markdown",
   "id": "71d7e5a9",
   "metadata": {},
   "source": [
    "Answer=logging.disable(level)"
   ]
  },
  {
   "cell_type": "markdown",
   "id": "93b6b3b9",
   "metadata": {},
   "source": [
    "# 8.Why is using logging messages better than using print() to display the same message?"
   ]
  },
  {
   "cell_type": "markdown",
   "id": "faf4dd01",
   "metadata": {},
   "source": [
    "Answer = It helps to see where and when a logging call is being made from\n",
    "\n",
    "         we can differentiate logging based on severity\n",
    "\n",
    "         print does not have any of them"
   ]
  },
  {
   "cell_type": "markdown",
   "id": "ea6ef791",
   "metadata": {},
   "source": [
    "# 9.What are the differences between the Step Over, Step In, and Step Out buttons in the debugger?"
   ]
  },
  {
   "cell_type": "markdown",
   "id": "539cf704",
   "metadata": {},
   "source": [
    "Answer = Step In will dig into method calls.\n",
    "\n",
    "         Step Over will just execute the line and go to the next line.\n",
    "\n",
    "         Step Out Steps out of the current method and takes you to the caller method."
   ]
  },
  {
   "cell_type": "markdown",
   "id": "ff9ff40d",
   "metadata": {},
   "source": [
    "# 10.After you click Continue, when will the debugger stop ?"
   ]
  },
  {
   "cell_type": "markdown",
   "id": "09255722",
   "metadata": {},
   "source": [
    "Answer = when it has reached the end of a program or a breakpoint"
   ]
  },
  {
   "cell_type": "markdown",
   "id": "2e0be7be",
   "metadata": {},
   "source": [
    "# 11.What is the concept of a breakpoint?"
   ]
  },
  {
   "cell_type": "markdown",
   "id": "419fe463",
   "metadata": {},
   "source": [
    "An intentional stopping point or pause put into program for debugging purpose."
   ]
  }
 ],
 "metadata": {
  "kernelspec": {
   "display_name": "Python 3 (ipykernel)",
   "language": "python",
   "name": "python3"
  },
  "language_info": {
   "codemirror_mode": {
    "name": "ipython",
    "version": 3
   },
   "file_extension": ".py",
   "mimetype": "text/x-python",
   "name": "python",
   "nbconvert_exporter": "python",
   "pygments_lexer": "ipython3",
   "version": "3.9.7"
  }
 },
 "nbformat": 4,
 "nbformat_minor": 5
}
